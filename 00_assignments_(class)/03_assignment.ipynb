{
  "nbformat": 4,
  "nbformat_minor": 0,
  "metadata": {
    "colab": {
      "provenance": [],
      "authorship_tag": "ABX9TyN/lB2i6Gmj74CAt1TrGg00",
      "include_colab_link": true
    },
    "kernelspec": {
      "name": "python3",
      "display_name": "Python 3"
    },
    "language_info": {
      "name": "python"
    }
  },
  "cells": [
    {
      "cell_type": "markdown",
      "metadata": {
        "id": "view-in-github",
        "colab_type": "text"
      },
      "source": [
        "<a href=\"https://colab.research.google.com/github/Fatima367/Python_Assignments/blob/main/03_assignment.ipynb\" target=\"_parent\"><img src=\"https://colab.research.google.com/assets/colab-badge.svg\" alt=\"Open In Colab\"/></a>"
      ]
    },
    {
      "cell_type": "markdown",
      "source": [
        "# **Control Flow and Loops**"
      ],
      "metadata": {
        "id": "x6jY3o-u51eZ"
      }
    },
    {
      "cell_type": "markdown",
      "source": [
        "## 1. Conditional Statements"
      ],
      "metadata": {
        "id": "QJO8jEru6Bfc"
      }
    },
    {
      "cell_type": "code",
      "source": [
        "x = 10\n",
        "print(f\"x = {x}\")\n",
        "if x > 5:                         # 'if block' checks if the condition is True? so this block of code will run\n",
        "  print(\"x is greater than 5\")\n",
        "elif x == 5:                      # 'elif block' checks another condition if the first condition is False\n",
        "  print(\"x is equal to 5\")\n",
        "else:                             # 'else' block runs when none of the above conditions are True\n",
        "  print(\"x is less than 5\")"
      ],
      "metadata": {
        "colab": {
          "base_uri": "https://localhost:8080/"
        },
        "id": "vx_sDVPQ6FMH",
        "outputId": "1546b36a-0075-48f7-a0cf-bf99e33d5cdf"
      },
      "execution_count": null,
      "outputs": [
        {
          "output_type": "stream",
          "name": "stdout",
          "text": [
            "x = 10\n",
            "x is greater than 5\n"
          ]
        }
      ]
    },
    {
      "cell_type": "markdown",
      "source": [
        "## 2. Loops"
      ],
      "metadata": {
        "id": "W96C4V7Y7Kew"
      }
    },
    {
      "cell_type": "markdown",
      "source": [
        "### - **For Loop**\n"
      ],
      "metadata": {
        "id": "XQTSDmsw7Mcf"
      }
    },
    {
      "cell_type": "code",
      "source": [
        "print(\"List of numbers:\")\n",
        "for i in range(5):  # Used for iterating over a sequence (list, tuple, string, etc.)\n",
        "  print(i)\n",
        "\n",
        "print()\n",
        "\n",
        "list_of_staff = [\"Backend Engineer\", \"Frontend Engineer\",\"UI/UX Designer\", \"QA Engineer\", \"Product Manager\",\"Data Analyst\"]\n",
        "\n",
        "print(f\"\\nList of staff:\")\n",
        "\n",
        "for person in list_of_staff:\n",
        "  print(person)"
      ],
      "metadata": {
        "colab": {
          "base_uri": "https://localhost:8080/"
        },
        "id": "SKC7Ol2i7Yyc",
        "outputId": "9bafe9c3-054b-4784-989e-c2763d6c17bc"
      },
      "execution_count": null,
      "outputs": [
        {
          "output_type": "stream",
          "name": "stdout",
          "text": [
            "List of numbers:\n",
            "0\n",
            "1\n",
            "2\n",
            "3\n",
            "4\n",
            "\n",
            "\n",
            "List of staff:\n",
            "Backend Engineer\n",
            "Frontend Engineer\n",
            "UI/UX Designer\n",
            "QA Engineer\n",
            "Product Manager\n",
            "Data Analyst\n"
          ]
        }
      ]
    },
    {
      "cell_type": "markdown",
      "source": [
        "### - **While Loop**"
      ],
      "metadata": {
        "id": "6OY9Sir99AhH"
      }
    },
    {
      "cell_type": "code",
      "source": [
        "number = 0\n",
        "\n",
        "print(f\"Before while loop: number = {number}\")\n",
        "\n",
        "while number <= 10:     # Runs as long as the condition is true\n",
        "  print(number)\n",
        "  number += 1\n",
        "\n",
        "print(f\"After while loop: number = {number}\")"
      ],
      "metadata": {
        "colab": {
          "base_uri": "https://localhost:8080/"
        },
        "id": "X6EFCj6H9D-Y",
        "outputId": "e0363f0e-0ae9-4bdd-e717-43133f2e6c11"
      },
      "execution_count": null,
      "outputs": [
        {
          "output_type": "stream",
          "name": "stdout",
          "text": [
            "Before while loop: number = 0\n",
            "0\n",
            "1\n",
            "2\n",
            "3\n",
            "4\n",
            "5\n",
            "6\n",
            "7\n",
            "8\n",
            "9\n",
            "10\n",
            "After while loop: number = 11\n"
          ]
        }
      ]
    },
    {
      "cell_type": "markdown",
      "source": [
        "# **Lists, Tuples & Dictionary**"
      ],
      "metadata": {
        "id": "lD6HLbEZ98EH"
      }
    },
    {
      "cell_type": "markdown",
      "source": [
        "## Lists: Ordered, Mutable collection of data\n"
      ],
      "metadata": {
        "id": "8bWDT_g--FTJ"
      }
    },
    {
      "cell_type": "code",
      "source": [
        "my_list = [1, 2, 3, \"A\", \"B\", \"C\"]\n",
        "print(\"List:\", my_list)\n",
        "\n",
        "my_list.append(4)                   # Add an element in the list\n",
        "print(\"Modified list:\", my_list)\n",
        "\n",
        "print(f\"Accessed an element in the list: {my_list[3]}\")  # Getting an element using its index"
      ],
      "metadata": {
        "colab": {
          "base_uri": "https://localhost:8080/"
        },
        "id": "hkdP0WAn94CQ",
        "outputId": "018b6c6b-410b-4081-fcd9-2685baadb85e"
      },
      "execution_count": null,
      "outputs": [
        {
          "output_type": "stream",
          "name": "stdout",
          "text": [
            "List: [1, 2, 3, 'A', 'B', 'C']\n",
            "Modified list: [1, 2, 3, 'A', 'B', 'C', 4]\n",
            "Accessed an element in the list: A\n"
          ]
        }
      ]
    },
    {
      "cell_type": "markdown",
      "source": [
        "## Tuples: Ordered but Immutable collection of data\n"
      ],
      "metadata": {
        "id": "cb1Ko65C_JkX"
      }
    },
    {
      "cell_type": "code",
      "source": [
        "my_tuple = (1, 2, 3, \"a\", \"b\", \"c\")\n",
        "print(\"\\nTuple:\", my_tuple)\n",
        "# my_tuple.append(4)                      # This will raise an error because tuples are immutable\n",
        "\n",
        "print(f\"Accessed an element in the tuple => {my_tuple[3]}\") # Getting an element using its index\n"
      ],
      "metadata": {
        "colab": {
          "base_uri": "https://localhost:8080/"
        },
        "id": "TVIgfMUQ_FkZ",
        "outputId": "1a961410-df47-475a-9149-487dd72ba541"
      },
      "execution_count": null,
      "outputs": [
        {
          "output_type": "stream",
          "name": "stdout",
          "text": [
            "\n",
            "Tuple: (1, 2, 3, 'a', 'b', 'c')\n",
            "Accessing an element in the tuple => a\n"
          ]
        }
      ]
    },
    {
      "cell_type": "markdown",
      "source": [
        "## Dictionary: Key-value pairs"
      ],
      "metadata": {
        "id": "EfQurRFq_7-k"
      }
    },
    {
      "cell_type": "code",
      "source": [
        "my_dict = {\"name\": \"Karen\", \"age\": 18, \"city\": \"London\"}\n",
        "print(\"\\nDictionary:\", my_dict)\n",
        "print(\"Name:\", my_dict[\"name\"])             # Accessing a value using the key\n",
        "my_dict[\"age\"] = 19                         # Modifying a value\n",
        "print(\"Modified dictionary:\", my_dict)"
      ],
      "metadata": {
        "colab": {
          "base_uri": "https://localhost:8080/"
        },
        "id": "FOg1-l3hAChf",
        "outputId": "f33a83fb-3e3c-4564-b31f-86978e1cd66e"
      },
      "execution_count": 1,
      "outputs": [
        {
          "output_type": "stream",
          "name": "stdout",
          "text": [
            "\n",
            "Dictionary: {'name': 'Karen', 'age': 18, 'city': 'London'}\n",
            "Name: Karen\n",
            "Modified dictionary: {'name': 'Karen', 'age': 19, 'city': 'London'}\n"
          ]
        }
      ]
    },
    {
      "cell_type": "markdown",
      "source": [
        "# **Sets & Frozensets**"
      ],
      "metadata": {
        "id": "7SwaBjIvAV3-"
      }
    },
    {
      "cell_type": "markdown",
      "source": [
        "## Sets: Unordered, mutable collection of unique elements"
      ],
      "metadata": {
        "id": "6Qa4vK8l-5y1"
      }
    },
    {
      "cell_type": "code",
      "source": [
        "my_set = {1, 2, 3, 3, 4}          # Duplicates are automatically removed\n",
        "print(\"Set:\", my_set)\n",
        "my_set.add(5)                     # Add an element\n",
        "print(\"Modified set:\", my_set)\n",
        "\n",
        "my_set.discard(3)                 # Remove an element\n",
        "print(\"Modified set:\", my_set)\n",
        "\n",
        "# print(my_set[0]) # It will raise an error because sets are unordered and don't support indexing"
      ],
      "metadata": {
        "colab": {
          "base_uri": "https://localhost:8080/"
        },
        "id": "dk44PIf1-_P4",
        "outputId": "d3be20e1-e47c-49f8-9e7c-b8f7b2d934c1"
      },
      "execution_count": 2,
      "outputs": [
        {
          "output_type": "stream",
          "name": "stdout",
          "text": [
            "Set: {1, 2, 3, 4}\n",
            "Modified set: {1, 2, 3, 4, 5}\n",
            "Modified set: {1, 2, 4, 5}\n"
          ]
        }
      ]
    },
    {
      "cell_type": "markdown",
      "source": [
        "## Frozensets (Immutable version of a sets)"
      ],
      "metadata": {
        "id": "1gmFf1gi_yWm"
      }
    },
    {
      "cell_type": "code",
      "source": [
        "my_frozenset = frozenset([1, 2, 3, 3, 4])\n",
        "print(\"\\nFrozenset:\", my_frozenset)\n",
        "\n",
        "# my_frozenset.add(5)  # This will raise an error because frozensets are immutable"
      ],
      "metadata": {
        "id": "KDcxgSmiAXlL",
        "colab": {
          "base_uri": "https://localhost:8080/"
        },
        "outputId": "cf1cf21e-2558-447d-efd0-d00334692bc4"
      },
      "execution_count": 5,
      "outputs": [
        {
          "output_type": "stream",
          "name": "stdout",
          "text": [
            "\n",
            "Frozenset: frozenset({1, 2, 3, 4})\n"
          ]
        }
      ]
    }
  ]
}