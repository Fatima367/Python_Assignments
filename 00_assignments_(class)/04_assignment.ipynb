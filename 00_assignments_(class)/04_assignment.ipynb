{
  "nbformat": 4,
  "nbformat_minor": 0,
  "metadata": {
    "colab": {
      "provenance": [],
      "authorship_tag": "ABX9TyN6eQ2cyG5Im3UreWUokOrN",
      "include_colab_link": true
    },
    "kernelspec": {
      "name": "python3",
      "display_name": "Python 3"
    },
    "language_info": {
      "name": "python"
    }
  },
  "cells": [
    {
      "cell_type": "markdown",
      "metadata": {
        "id": "view-in-github",
        "colab_type": "text"
      },
      "source": [
        "<a href=\"https://colab.research.google.com/github/Fatima367/Python_Assignments/blob/main/04_assignment.ipynb\" target=\"_parent\"><img src=\"https://colab.research.google.com/assets/colab-badge.svg\" alt=\"Open In Colab\"/></a>"
      ]
    },
    {
      "cell_type": "markdown",
      "source": [
        "# **Modules and Functions**"
      ],
      "metadata": {
        "id": "N8XO4hxGBrLw"
      }
    },
    {
      "cell_type": "markdown",
      "source": [
        "## 1. Built-in Modules (Standard Libraries)"
      ],
      "metadata": {
        "id": "WjZUG8i-B2tp"
      }
    },
    {
      "cell_type": "code",
      "source": [
        "import math               # Build-in Modules are pre-installed in Python just import and work with them\n",
        "print(f\"Square root of 25: {math.sqrt(25)}\")      # prints the square root of 25"
      ],
      "metadata": {
        "colab": {
          "base_uri": "https://localhost:8080/"
        },
        "id": "f_FknlypB6c0",
        "outputId": "eae9c798-ff92-4b68-d726-fe9049b72acc"
      },
      "execution_count": null,
      "outputs": [
        {
          "output_type": "stream",
          "name": "stdout",
          "text": [
            "Square root of 25: 5.0\n"
          ]
        }
      ]
    },
    {
      "cell_type": "markdown",
      "source": [
        "## 2. User Defined Modules"
      ],
      "metadata": {
        "id": "vN400YCeN0Tx"
      }
    },
    {
      "cell_type": "code",
      "source": [
        "def add(a, b):          # User defined modules are .py files and we can import them in other files as well\n",
        "    return a + b\n",
        "\n",
        "print(add(10,20))"
      ],
      "metadata": {
        "colab": {
          "base_uri": "https://localhost:8080/"
        },
        "id": "6OcE3NneN3yH",
        "outputId": "094461f8-886f-4f5e-b1fe-123c04df66ab"
      },
      "execution_count": null,
      "outputs": [
        {
          "output_type": "stream",
          "name": "stdout",
          "text": [
            "30\n"
          ]
        }
      ]
    },
    {
      "cell_type": "markdown",
      "source": [
        "## 3. External Modules (Third-party Libraries)"
      ],
      "metadata": {
        "id": "9yM-ySt0OW1E"
      }
    },
    {
      "cell_type": "code",
      "source": [
        "!pip install requests      # We need to install these modules"
      ],
      "metadata": {
        "id": "DRhektAqOZLi"
      },
      "execution_count": null,
      "outputs": []
    },
    {
      "cell_type": "code",
      "source": [
        "import requests                                       # Now we can use them after installation\n",
        "response = requests.get(\"https://www.example.com\")\n",
        "print(response.status_code)"
      ],
      "metadata": {
        "colab": {
          "base_uri": "https://localhost:8080/"
        },
        "id": "rdNrxuvCOe8T",
        "outputId": "26a844e9-e411-4c59-80fb-a05e6095cf57"
      },
      "execution_count": null,
      "outputs": [
        {
          "output_type": "stream",
          "name": "stdout",
          "text": [
            "200\n"
          ]
        }
      ]
    },
    {
      "cell_type": "markdown",
      "source": [
        "# **Functions**"
      ],
      "metadata": {
        "id": "M-IdKitMPDoX"
      }
    },
    {
      "cell_type": "code",
      "source": [
        "def hello():\n",
        "  print(\"Hello from python!!\")\n",
        "\n",
        "hello()"
      ],
      "metadata": {
        "colab": {
          "base_uri": "https://localhost:8080/"
        },
        "id": "8zQVmclEPE8w",
        "outputId": "3b8182b9-91a5-4c0f-d94e-7a3c9aeda9fc"
      },
      "execution_count": null,
      "outputs": [
        {
          "output_type": "stream",
          "name": "stdout",
          "text": [
            "Hello from python!!\n"
          ]
        }
      ]
    },
    {
      "cell_type": "code",
      "source": [
        "def greetings(name):              # Function with parameters\n",
        "  print(f\"Hello {name}!\")\n",
        "\n",
        "greetings(\"Shanzay\")"
      ],
      "metadata": {
        "colab": {
          "base_uri": "https://localhost:8080/"
        },
        "id": "aatmT9d8Oypp",
        "outputId": "44f00c6b-3860-4321-bbaf-1ff85a9b8a77"
      },
      "execution_count": null,
      "outputs": [
        {
          "output_type": "stream",
          "name": "stdout",
          "text": [
            "Hello Shanzay!\n"
          ]
        }
      ]
    },
    {
      "cell_type": "markdown",
      "source": [
        "# **Exception Handling (try, except, and finally)**"
      ],
      "metadata": {
        "id": "r317IiNpPxfD"
      }
    },
    {
      "cell_type": "code",
      "source": [
        "def division(num1, num2):\n",
        "    try:                                           # Try to execute this block\n",
        "        result = num1 / num2\n",
        "    except ZeroDivisionError:                      # Handles the specific exceptions like ZeroDivisionError\n",
        "        result = \"Error: Division by zero!\"\n",
        "    except Exception as e:                         # Handles rest of the errors and exceptions gracefully\n",
        "        result = f\"An unexpected error occurred: {e}\"\n",
        "    else:                                          # Runs if no exceptions occur and try block runs successfully\n",
        "        print(f\"The result of the division is: {result}\")\n",
        "    finally:                                       # Code that always executes\n",
        "        print(\"This always executes.\")\n",
        "\n",
        "    return result\n",
        "\n",
        "print(division(10, 5))\n",
        "print()\n",
        "print(division(10, 0))\n",
        "print()\n",
        "print(division(10, \"hello\"))\n"
      ],
      "metadata": {
        "colab": {
          "base_uri": "https://localhost:8080/"
        },
        "id": "bx7EYlc_Qent",
        "outputId": "d46ce70d-a98c-41a7-a884-1af0d08f07e3"
      },
      "execution_count": null,
      "outputs": [
        {
          "output_type": "stream",
          "name": "stdout",
          "text": [
            "The result of the division is: 2.0\n",
            "This always executes.\n",
            "2.0\n",
            "\n",
            "This always executes.\n",
            "Error: Division by zero!\n",
            "\n",
            "This always executes.\n",
            "An unexpected error occurred: unsupported operand type(s) for /: 'int' and 'str'\n"
          ]
        }
      ]
    },
    {
      "cell_type": "markdown",
      "source": [
        "# **File Handling**"
      ],
      "metadata": {
        "id": "8ZZW2A2G2060"
      }
    },
    {
      "cell_type": "code",
      "source": [
        "import os\n",
        "\n",
        "# This code is for local IDE not for Google Colab\n",
        "\n",
        "# Reading data from 'new_file.txt'\n",
        "if os.path.exists('new_file.txt'):\n",
        "    with open('new_file.txt', \"r\") as file:\n",
        "        content = file.read()\n",
        "        print(content)\n",
        "\n",
        "# Writing data in to the file\n",
        "with open('work_file.txt' , \"w\") as file:\n",
        "    file.write(\"Hello World!\")\n",
        "    file.write(\"\\nThis is done through python\")"
      ],
      "metadata": {
        "id": "sMtI_CK63ICZ"
      },
      "execution_count": null,
      "outputs": []
    },
    {
      "cell_type": "markdown",
      "source": [
        "# **Math Datetime Calender (Python's built-in functions)**"
      ],
      "metadata": {
        "id": "ixMq8L7H3Sr1"
      }
    },
    {
      "cell_type": "code",
      "source": [
        "import math\n",
        "import datetime\n",
        "import calendar\n",
        "\n",
        "print(f\"Square root of 16 calculated with the math.sqrt() function: {math.sqrt(16)}\")\n",
        "\n",
        "\n",
        "print(\"\\nCurrent date and time using the datetime module:\")\n",
        "current_time = datetime.datetime.now()\n",
        "print(current_time)\n",
        "\n",
        "\n",
        "print(\"\\nCalendar for May 2025 using the calendar module:\")\n",
        "cal = calendar.month(2025, 5)\n",
        "print(cal)"
      ],
      "metadata": {
        "colab": {
          "base_uri": "https://localhost:8080/"
        },
        "id": "BpKFagDR3csq",
        "outputId": "f30cacd7-c397-4b3e-b456-dc58875cd2b8"
      },
      "execution_count": 10,
      "outputs": [
        {
          "output_type": "stream",
          "name": "stdout",
          "text": [
            "Square root of 16 calculated with the math.sqrt() function: 4.0\n",
            "\n",
            "Current date and time using the datetime module:\n",
            "2025-05-01 17:32:50.308499\n",
            "\n",
            "Calendar for May 2025 using the calendar module:\n",
            "      May 2025\n",
            "Mo Tu We Th Fr Sa Su\n",
            "          1  2  3  4\n",
            " 5  6  7  8  9 10 11\n",
            "12 13 14 15 16 17 18\n",
            "19 20 21 22 23 24 25\n",
            "26 27 28 29 30 31\n",
            "\n"
          ]
        }
      ]
    }
  ]
}