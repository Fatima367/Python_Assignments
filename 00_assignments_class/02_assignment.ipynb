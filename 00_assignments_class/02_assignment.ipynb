{
  "cells": [
    {
      "cell_type": "markdown",
      "metadata": {
        "colab_type": "text",
        "id": "view-in-github"
      },
      "source": [
        "<a href=\"https://colab.research.google.com/github/Fatima367/Python_Assignments/blob/main/02_assignment.ipynb\" target=\"_parent\"><img src=\"https://colab.research.google.com/assets/colab-badge.svg\" alt=\"Open In Colab\"/></a>"
      ]
    },
    {
      "cell_type": "markdown",
      "metadata": {
        "id": "zEFfcwHXcmcR"
      },
      "source": [
        "# **Python Operators**"
      ]
    },
    {
      "cell_type": "markdown",
      "metadata": {
        "id": "0unWW0hoczVr"
      },
      "source": [
        "## 1. Arithmetic Operators `(+, -, /, *, //, **, %)`"
      ]
    },
    {
      "cell_type": "code",
      "execution_count": 3,
      "metadata": {
        "colab": {
          "base_uri": "https://localhost:8080/"
        },
        "id": "kCbN9ydwcz5A",
        "outputId": "ef84290b-275b-42dd-86f7-63f62f1963d2"
      },
      "outputs": [
        {
          "name": "stdout",
          "output_type": "stream",
          "text": [
            "Addition: a + b = 15\n",
            "Subtraction: a - b = 5\n",
            "Multiplication a * b =: 50\n",
            "Division: a / b = 2.0\n",
            "Floor Division: a // b = 2\n",
            "Exponentiation: a ** b = 100000\n",
            "Modulus: a % b = 0\n"
          ]
        }
      ],
      "source": [
        "a = 10\n",
        "b = 5\n",
        "\n",
        "addition = a + b          # Addition\n",
        "subtraction = a - b       # Subtraction\n",
        "multiplication = a * b    # Multiplictaion\n",
        "division = a / b          # Division\n",
        "floor_division = a // b   # Floor Division\n",
        "exponentiation = a ** b   # Exponentiation\n",
        "modulus = a % b           # Modulus\n",
        "\n",
        "print(\"Addition: a + b =\", addition)\n",
        "print(\"Subtraction: a - b =\", subtraction)\n",
        "print(\"Multiplication a * b =:\", multiplication)\n",
        "print(\"Division: a / b =\", division)\n",
        "print(\"Floor Division: a // b =\", floor_division)\n",
        "print(\"Exponentiation: a ** b =\", exponentiation)\n",
        "print(\"Modulus: a % b =\", modulus)"
      ]
    },
    {
      "cell_type": "markdown",
      "metadata": {
        "id": "lyvBRhvBeE-_"
      },
      "source": [
        "## 2. Assignment operators    `(+=, -=, /=, %=, *=)`"
      ]
    },
    {
      "cell_type": "code",
      "execution_count": null,
      "metadata": {
        "colab": {
          "base_uri": "https://localhost:8080/"
        },
        "id": "RCg-Y1Y5eHNL",
        "outputId": "eec63c78-0dd3-4582-f2ac-bdd29907d2bf"
      },
      "outputs": [
        {
          "name": "stdout",
          "output_type": "stream",
          "text": [
            "a = 10\n",
            "a += 5 => 15\n",
            "a -= 2 => 13\n",
            "a *= 2 => 26\n",
            "a /= 2 => 13.0\n",
            "a %= 3 => 1.0\n",
            "a **= 2 => 1.0\n",
            "a //= 4 => 0.0\n"
          ]
        }
      ],
      "source": [
        "# '=' for assigning a value to a variable\n",
        "a = 10\n",
        "\n",
        "print(f\"a = {a}\")\n",
        "\n",
        "# assigning and incrementing the value of a\n",
        "a += 5      # This means:  a = a + 5\n",
        "\n",
        "print(f\"a += 5 => {a}\")\n",
        "\n",
        "# assigning and decrementing the value of a\n",
        "a -= 2      # This means:  a = a - 2\n",
        "\n",
        "print(f\"a -= 2 => {a}\")\n",
        "\n",
        "# assigning and multiplying the value of a with 2\n",
        "a *= 2      # This means:  a = a * 2\n",
        "\n",
        "print(f\"a *= 2 => {a}\")\n",
        "\n",
        "# assigning and dividing the value of a by 2\n",
        "a /= 2      # This means:  a = a / 2\n",
        "\n",
        "print(f\"a /= 2 => {a}\")\n",
        "\n",
        "# assigning and getting the modulus of a by 3\n",
        "a %= 3      # This means:  a = a % 3\n",
        "\n",
        "print(f\"a %= 3 => {a}\")\n",
        "\n",
        "# assigning and performing exponentiation on a by 2\n",
        "a **= 2     # This means:  a = a ** 2\n",
        "\n",
        "print(f\"a **= 2 => {a}\")\n",
        "\n",
        "# assigning and performing floor division on a by 4\n",
        "a //= 4     # This means:  a = a //4\n",
        "\n",
        "print(f\"a //= 4 => {a}\")"
      ]
    },
    {
      "cell_type": "markdown",
      "metadata": {
        "id": "9OEy66-wf6pj"
      },
      "source": [
        "## 3. Comparison operators    `(==, != , <, >, <=, >=)`"
      ]
    },
    {
      "cell_type": "code",
      "execution_count": 6,
      "metadata": {
        "colab": {
          "base_uri": "https://localhost:8080/"
        },
        "id": "EhPE8farf8gV",
        "outputId": "e79822f1-169c-497f-a6d3-3139776f4579"
      },
      "outputs": [
        {
          "name": "stdout",
          "output_type": "stream",
          "text": [
            "a = 10\n",
            "b = 5\n",
            "a == b: False\n",
            "a != b: True\n",
            "a < b: False\n",
            "a > b: True\n",
            "a <= b: False\n",
            "a >= b: True\n"
          ]
        }
      ],
      "source": [
        "a = 10\n",
        "b = 5\n",
        "\n",
        "print(f\"a = {a}\")\n",
        "print(f\"b = {b}\")\n",
        "print(f\"a == b: {a == b}\")    # checks if the value of a is equal to the value of b\n",
        "print(f\"a != b: {a != b}\")    # checks if the value of a is not equal to the value of b\n",
        "print(f\"a < b: {a < b}\")      # checks if the value of a is less than the value of b\n",
        "print(f\"a > b: {a > b}\")      # checks if the value of a is greater than the value of b\n",
        "print(f\"a <= b: {a <= b}\")    # checks if the value of a is less than and equal to the value of b\n",
        "print(f\"a >= b: {a >= b}\")    # checks if the value of a is greater than equal to the value of b"
      ]
    },
    {
      "cell_type": "markdown",
      "metadata": {
        "id": "nZzwYvXVg66G"
      },
      "source": [
        "## 4. Logical operators       `(and, or, not)`"
      ]
    },
    {
      "cell_type": "code",
      "execution_count": 7,
      "metadata": {
        "colab": {
          "base_uri": "https://localhost:8080/"
        },
        "id": "5ov6WECZh76b",
        "outputId": "0ad93510-e9d0-4b49-833f-55b99ca7ccab"
      },
      "outputs": [
        {
          "name": "stdout",
          "output_type": "stream",
          "text": [
            "Both conditions are True\n",
            "At least one condition is True\n",
            "The condition is False, so not makes it True\n"
          ]
        }
      ],
      "source": [
        "a = 10\n",
        "b = 5\n",
        "c = 15\n",
        "\n",
        "if a > b and c > a:       # 'and' used where both conditions must be True\n",
        "  print(\"Both conditions are True\")  # This will be printed because 10 > 5 and 15 > 10\n",
        "\n",
        "if a > b or a > c:        # 'or' used where atleast one condition needs to be True\n",
        "  print(\"At least one condition is True\") # This will be printed because 10 > 5 is True, even though 10 > 15 is False\n",
        "\n",
        "if not (a < b):           # 10 < 5 is False, and 'not False' becomes True\n",
        "  print(\"The condition is False, so not makes it True\") # This will be printed because 10 < 5 is False, but not False is True\n"
      ]
    },
    {
      "cell_type": "markdown",
      "metadata": {
        "id": "jawgyTtljh2S"
      },
      "source": [
        "## 5. Identity operators      `(is, is not)`"
      ]
    },
    {
      "cell_type": "code",
      "execution_count": 8,
      "metadata": {
        "colab": {
          "base_uri": "https://localhost:8080/"
        },
        "id": "Gi7cOP3FjjmB",
        "outputId": "6ef84fc3-0cb3-421a-c211-b6c1d3a2b29f"
      },
      "outputs": [
        {
          "name": "stdout",
          "output_type": "stream",
          "text": [
            "a = 10\n",
            "b = 5\n",
            "\n",
            "id(a) = 10751144\n",
            "id(b) = 10750984\n",
            "\n",
            "a is b: False\n",
            "a is not b: True\n"
          ]
        }
      ],
      "source": [
        "a = 10\n",
        "b = 5\n",
        "\n",
        "print(f\"a = {a}\")\n",
        "print(f\"b = {b}\")\n",
        "\n",
        "print(f\"\\nid(a) = {id(a)}\")\n",
        "print(f\"id(b) = {id(b)}\")\n",
        "\n",
        "print(f\"\\na is b: {a is b}\")          # a is b returns True if objects have the same memory location\n",
        "print(f\"a is not b: {a is not b}\")    # a is not returns True if objects do not have the same memory location"
      ]
    },
    {
      "cell_type": "markdown",
      "metadata": {
        "id": "WEAG9liRkvyM"
      },
      "source": [
        "## 6. Membership operators    `(in, not in)`"
      ]
    },
    {
      "cell_type": "code",
      "execution_count": 12,
      "metadata": {
        "colab": {
          "base_uri": "https://localhost:8080/"
        },
        "id": "CsRbyfy-kydZ",
        "outputId": "bca0bb77-4688-4fc7-a030-cdb0afe46889"
      },
      "outputs": [
        {
          "name": "stdout",
          "output_type": "stream",
          "text": [
            "if 490 in selected_roll_numbers list:\n",
            "Yes 490 is in the list\n",
            "\n",
            "if 491 not in selected_roll_numbers list:\n",
            "No,491 is not in the list\n"
          ]
        }
      ],
      "source": [
        "selected_roll_numbers = [300, 498, 294, 150, 490, 280, 405, 593, 389, 299]\n",
        "\n",
        "if 490 in selected_roll_numbers:                      # 'in' checks if the element exists in the given sequence\n",
        "  print(f\"if 490 in selected_roll_numbers list:\")\n",
        "  print(\"Yes 490 is in the list\")\n",
        "else:\n",
        "  print(\"4490 is not in the list\")\n",
        "\n",
        "print()\n",
        "\n",
        "if 491 not in selected_roll_numbers:                  # 'not in' checks if the element does not exist in the given sequence\n",
        "  print(f\"if 491 not in selected_roll_numbers list:\")\n",
        "  print(\"No,491 is not in the list\")\n",
        "else:\n",
        "  print(\"491 is in the list\")"
      ]
    },
    {
      "cell_type": "markdown",
      "metadata": {
        "id": "O4eEn5YzmoLl"
      },
      "source": [
        "## 7. Bitwise operators       `(&, |, ^, ~, <<, >>)`"
      ]
    },
    {
      "cell_type": "code",
      "execution_count": 14,
      "metadata": {
        "colab": {
          "base_uri": "https://localhost:8080/"
        },
        "id": "QLyop7MbneC3",
        "outputId": "1369d5fc-a47c-4818-d571-2a80da4ff2f0"
      },
      "outputs": [
        {
          "name": "stdout",
          "output_type": "stream",
          "text": [
            "i & j: 0\n",
            "i | j: 14\n",
            "i ^ j: 14\n",
            "~i: -11\n",
            "i << 2: 40\n",
            "i >> 2: 2\n"
          ]
        }
      ],
      "source": [
        "i = 10  # Binary value: 1010\n",
        "j = 4   # Binary value: 0100\n",
        "\n",
        "print(\"i & j:\", i & j)  # Bitwise AND (1010 & 0100 = 0000)  Result: 0\n",
        "print(\"i | j:\", i | j)  # Bitwise OR  (1010 | 0100 = 1110)  Result: 14\n",
        "print(\"i ^ j:\", i ^ j)  # Bitwise XOR (1010 ^ 0100 = 1110)  Result: 14\n",
        "print(\"~i:\", ~i)   # Bitwise NOT (~1010 = -(1010 + 1) = -11)  Result: -11  (Inverts bits and represents as two's complement)\n",
        "print(\"i << 2:\", i << 2) # Bitwise left shift (1010 << 2 = 101000) Result: 40 (shifts bits to the left by 2 places, filling with zeros)\n",
        "print(\"i >> 2:\", i >> 2) # Bitwise right shift (1010 >> 2 = 0010) Result: 2 (shifts bits to the right by 2 places, filling with zeros)"
      ]
    }
  ],
  "metadata": {
    "colab": {
      "authorship_tag": "ABX9TyMrXVhoZ1ET7ohISL9tjSVJ",
      "include_colab_link": true,
      "provenance": []
    },
    "kernelspec": {
      "display_name": "Python 3",
      "name": "python3"
    },
    "language_info": {
      "name": "python"
    }
  },
  "nbformat": 4,
  "nbformat_minor": 0
}
