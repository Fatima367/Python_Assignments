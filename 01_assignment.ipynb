{
  "nbformat": 4,
  "nbformat_minor": 0,
  "metadata": {
    "colab": {
      "provenance": [],
      "authorship_tag": "ABX9TyPJVOB6qTid2ILdAwH8dY9f",
      "include_colab_link": true
    },
    "kernelspec": {
      "name": "python3",
      "display_name": "Python 3"
    },
    "language_info": {
      "name": "python"
    }
  },
  "cells": [
    {
      "cell_type": "markdown",
      "metadata": {
        "id": "view-in-github",
        "colab_type": "text"
      },
      "source": [
        "<a href=\"https://colab.research.google.com/github/Fatima367/Python_Assignments/blob/main/1_assignment.ipynb\" target=\"_parent\"><img src=\"https://colab.research.google.com/assets/colab-badge.svg\" alt=\"Open In Colab\"/></a>"
      ]
    },
    {
      "cell_type": "markdown",
      "source": [
        "# **Python Data Types**"
      ],
      "metadata": {
        "id": "qVxTIfP_ZTLz"
      }
    },
    {
      "cell_type": "markdown",
      "source": [
        "# 1. Numeric Types"
      ],
      "metadata": {
        "id": "HiIrwSG_ZezY"
      }
    },
    {
      "cell_type": "code",
      "source": [
        "number = 10  # Integer\n",
        "numbers_in_decimal = 3.14  # Float\n",
        "complex_values = 1 + 2j  # Complex\n",
        "\n",
        "print(f\"Number: {number},\\t \\t \\t Data type: {type(number)}\")\n",
        "print(f\"Numbers in decimal: {numbers_in_decimal},\\t Data type: {type(numbers_in_decimal)}\")\n",
        "print(f\"Complex values: {complex_values},\\t \\t Data type: {type(complex_values)}\")"
      ],
      "metadata": {
        "colab": {
          "base_uri": "https://localhost:8080/"
        },
        "id": "A2cBSsvfZiVy",
        "outputId": "86bc5081-a150-4b72-83fe-a2ed0197eb38"
      },
      "execution_count": 6,
      "outputs": [
        {
          "output_type": "stream",
          "name": "stdout",
          "text": [
            "Number: 10,\t \t \t Data type: <class 'int'>\n",
            "Numbers in decimal: 3.14,\t Data type: <class 'float'>\n",
            "Complex values: (1+2j),\t \t Data type: <class 'complex'>\n"
          ]
        }
      ]
    },
    {
      "cell_type": "markdown",
      "source": [
        "# 2. Boolean"
      ],
      "metadata": {
        "id": "n19OascEiXEw"
      }
    },
    {
      "cell_type": "code",
      "source": [
        "language_is_python = True         # True or False\n",
        "language_is_typescript = False\n",
        "\n",
        "print(f\"Language is python? {language_is_python} \\t Data type: {type(language_is_python)}\")\n",
        "print(f\"Language is typescript? {language_is_typescript} \\t Data type: {type(language_is_typescript)}\")"
      ],
      "metadata": {
        "colab": {
          "base_uri": "https://localhost:8080/"
        },
        "id": "9QhrNzyiibGz",
        "outputId": "69cfae66-774a-4f9c-80b7-7d6f39a4431d"
      },
      "execution_count": 12,
      "outputs": [
        {
          "output_type": "stream",
          "name": "stdout",
          "text": [
            "Language is python? True \t Data type: <class 'bool'>\n",
            "Language is typescript? False \t Data type: <class 'bool'>\n"
          ]
        }
      ]
    },
    {
      "cell_type": "markdown",
      "source": [
        "# 3. Sequence Data Types"
      ],
      "metadata": {
        "id": "pq8SngZIacp5"
      }
    },
    {
      "cell_type": "code",
      "source": [
        "text = 'Hello, World!' # String with single quotes\n",
        "text1 = \"Hello, world!\"  # String with double quotes\n",
        "text2 = \"\"\"Hello\n",
        "\\t World!\"\"\"               # String with triiple quotes / Multiline string\n",
        "\n",
        "print(f\"String with single quotes: {text}, \\t Data Type: {type(text)}\")\n",
        "print(f\"String with double quotes: {text1}, \\t Data Type: {type(text1)}\")\n",
        "print(f\"String with triple quotes: {text2}, \\t \\t \\t \\t Data Type: {type(text2)}\")"
      ],
      "metadata": {
        "colab": {
          "base_uri": "https://localhost:8080/"
        },
        "id": "eVKQdaLyafBZ",
        "outputId": "eea8bdef-10b2-4d80-a295-e48380b1980b"
      },
      "execution_count": 8,
      "outputs": [
        {
          "output_type": "stream",
          "name": "stdout",
          "text": [
            "String with single quotes: Hello, World!, \t Data Type: <class 'str'>\n",
            "String with double quotes: Hello, world!, \t Data Type: <class 'str'>\n",
            "String with triple quotes: Hello       \n",
            "\t World!, \t \t \t \t Data Type: <class 'str'>\n"
          ]
        }
      ]
    },
    {
      "cell_type": "code",
      "source": [
        "new_list = [1, 2, 3, \"a\", \"b\"]  # List (mutable)\n",
        "new_tuple = (1, 2, 3, \"a\", \"b\")  # Tuple (immutable)\n",
        "\n",
        "print(f\"List: {new_list}, \\t \\t Data Type: {type(new_list)}\")\n",
        "print(f\"Tuple: {new_tuple}, \\t \\t Data Type: {type(new_tuple)}\")"
      ],
      "metadata": {
        "colab": {
          "base_uri": "https://localhost:8080/"
        },
        "id": "HHYOzmU2iElK",
        "outputId": "754ddbbc-1cd9-4d15-de3e-fe2119491cb5"
      },
      "execution_count": 9,
      "outputs": [
        {
          "output_type": "stream",
          "name": "stdout",
          "text": [
            "List: [1, 2, 3, 'a', 'b'], \t \t Data Type: <class 'list'>\n",
            "Tuple: (1, 2, 3, 'a', 'b'), \t \t Data Type: <class 'tuple'>\n"
          ]
        }
      ]
    },
    {
      "cell_type": "markdown",
      "source": [
        "# 4. Mapping Data Type (Dictionary)"
      ],
      "metadata": {
        "id": "vVfLe0cKjNdV"
      }
    },
    {
      "cell_type": "code",
      "source": [
        "student = {\"name\": \"Alice\", \"age\": 18}  # Dictionary (key-value pairs)\n",
        "\n",
        "print(f\"Dictionary: {student}, \\t Data Type: {type(student)}\")"
      ],
      "metadata": {
        "colab": {
          "base_uri": "https://localhost:8080/"
        },
        "id": "W0ybOeUcjTMy",
        "outputId": "45c316ba-ab3a-403f-bb80-0ee05d2adc31"
      },
      "execution_count": 13,
      "outputs": [
        {
          "output_type": "stream",
          "name": "stdout",
          "text": [
            "Dictionary: {'name': 'Alice', 'age': 18}, \t Data Type: <class 'dict'>\n"
          ]
        }
      ]
    },
    {
      "cell_type": "markdown",
      "source": [
        "# 5.  Sets"
      ],
      "metadata": {
        "id": "vCU0Z2N-j191"
      }
    },
    {
      "cell_type": "code",
      "source": [
        "new_set = {1, 2, 3}  # Set (mutable unordered collection of unique elements)\n",
        "new_frozenset = frozenset([1, 2, 3]) # Frozenset (immutable unordered collection of unique elements)\n",
        "\n",
        "\n",
        "print(f\"Set: {new_set}, \\t \\t \\t Data Type: {type(new_set)}\")\n",
        "print(f\"Frozenset: {new_frozenset}, \\t Data Type: {type(new_frozenset)}\")"
      ],
      "metadata": {
        "colab": {
          "base_uri": "https://localhost:8080/"
        },
        "id": "2KflvDgLj3Py",
        "outputId": "3f138dd4-21e8-4c96-ef0b-1304f00f878e"
      },
      "execution_count": 21,
      "outputs": [
        {
          "output_type": "stream",
          "name": "stdout",
          "text": [
            "Set: {1, 2, 3}, \t \t \t Data Type: <class 'set'>\n",
            "Frozenset: frozenset({1, 2, 3}), \t Data Type: <class 'frozenset'>\n"
          ]
        }
      ]
    },
    {
      "cell_type": "markdown",
      "source": [
        "# 6. None"
      ],
      "metadata": {
        "id": "v6_iUV34lE0V"
      }
    },
    {
      "cell_type": "code",
      "source": [
        "data = None # None (Special data type represents the absence of value)\n",
        "\n",
        "print(f\"Data: {data}\")\n",
        "print(f\"Type: {type(data)}\")"
      ],
      "metadata": {
        "colab": {
          "base_uri": "https://localhost:8080/"
        },
        "id": "SBfbbAknlGQL",
        "outputId": "9b2e6eb9-821b-455e-80dc-ae2abd08799b"
      },
      "execution_count": 22,
      "outputs": [
        {
          "output_type": "stream",
          "name": "stdout",
          "text": [
            "Data: None\n",
            "Type: <class 'NoneType'>\n"
          ]
        }
      ]
    },
    {
      "cell_type": "markdown",
      "source": [
        "# 7. Binary Data Types"
      ],
      "metadata": {
        "id": "GuLobC6SldQk"
      }
    },
    {
      "cell_type": "code",
      "source": [
        "bytes_data = b\"Hello\"                  # Bytes\n",
        "byte_array = bytearray([65, 66, 67, 68, 69 ,70])          # Bytearray       # ASCII values of alphabets\n",
        "data_memoryview = memoryview(b'Hello World') # Memoryview\n",
        "\n",
        "print(f\"Bytes: {bytes_data} \\t \\t \\t \\t Data Type {type(bytes_data)}\")\n",
        "print(f\"Bytearray: {byte_array} \\t Data Type {type(byte_array)}\")\n",
        "print(byte_array[0])\n",
        "print(chr(byte_array[0]))\n",
        "print(f\"Memoryview: {data_memoryview} \\t \\t Data Type {type(data_memoryview)}\")\n",
        "print(bytes(data_memoryview[0:5]))"
      ],
      "metadata": {
        "colab": {
          "base_uri": "https://localhost:8080/"
        },
        "id": "WHhuLzoMlff8",
        "outputId": "8873528b-2e51-4700-d56e-67768ea36612"
      },
      "execution_count": 28,
      "outputs": [
        {
          "output_type": "stream",
          "name": "stdout",
          "text": [
            "Bytes: b'Hello' \t \t \t \t Data Type <class 'bytes'>\n",
            "Bytearray: bytearray(b'ABCDEF') \t Data Type <class 'bytearray'>\n",
            "65\n",
            "A\n",
            "Memoryview: <memory at 0x7ebf604d4c40> \t \t Data Type <class 'memoryview'>\n",
            "b'Hello'\n"
          ]
        }
      ]
    },
    {
      "cell_type": "markdown",
      "source": [
        "# **Python Special Keywords / Reserved Keywords**"
      ],
      "metadata": {
        "id": "SD4ux1p6nj2_"
      }
    },
    {
      "cell_type": "code",
      "source": [
        "import keyword\n",
        "\n",
        "print(\"Python Special Reserved Keywords: \\n\")\n",
        "\n",
        "for keyword in keyword.kwlist:\n",
        "  print(keyword)"
      ],
      "metadata": {
        "colab": {
          "base_uri": "https://localhost:8080/"
        },
        "id": "LoF28vAonnvA",
        "outputId": "97bf6276-dc26-4fab-ebbd-20d81191b5e4"
      },
      "execution_count": 30,
      "outputs": [
        {
          "output_type": "stream",
          "name": "stdout",
          "text": [
            "Python Special Reserved Keywords: \n",
            "\n",
            "False\n",
            "None\n",
            "True\n",
            "and\n",
            "as\n",
            "assert\n",
            "async\n",
            "await\n",
            "break\n",
            "class\n",
            "continue\n",
            "def\n",
            "del\n",
            "elif\n",
            "else\n",
            "except\n",
            "finally\n",
            "for\n",
            "from\n",
            "global\n",
            "if\n",
            "import\n",
            "in\n",
            "is\n",
            "lambda\n",
            "nonlocal\n",
            "not\n",
            "or\n",
            "pass\n",
            "raise\n",
            "return\n",
            "try\n",
            "while\n",
            "with\n",
            "yield\n"
          ]
        }
      ]
    }
  ]
}