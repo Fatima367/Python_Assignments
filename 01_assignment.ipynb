{
  "nbformat": 4,
  "nbformat_minor": 0,
  "metadata": {
    "colab": {
      "provenance": [],
      "authorship_tag": "ABX9TyM/SwLURd5q+f9eZfpBIIpv"
    },
    "kernelspec": {
      "name": "python3",
      "display_name": "Python 3"
    },
    "language_info": {
      "name": "python"
    }
  },
  "cells": [
    {
      "cell_type": "markdown",
      "source": [
        "# Python First Assignment"
      ],
      "metadata": {
        "id": "Fhn6DETtPgob"
      }
    },
    {
      "cell_type": "markdown",
      "source": [
        "## 1. Three different strings using each type of quotation:"
      ],
      "metadata": {
        "id": "i-ug9SmgP92K"
      }
    },
    {
      "cell_type": "code",
      "source": [
        "string1 = 'String written in SINGLE QUOTES'\n",
        "string2 = \"String written in DOUBLE QUOTES\"\n",
        "string3 = \"\"\"String written in TRIPLE QUOTES\"\"\"\n",
        "print(string1)\n",
        "print(string2)\n",
        "print(string3)"
      ],
      "metadata": {
        "id": "R0vyE1jUP-5c",
        "colab": {
          "base_uri": "https://localhost:8080/"
        },
        "outputId": "a85161b9-573f-4029-faf4-68a0dbe03cdc"
      },
      "execution_count": null,
      "outputs": [
        {
          "output_type": "stream",
          "name": "stdout",
          "text": [
            "String written in SINGLE QUOTES\n",
            "String written in DOUBLE QUOTES\n",
            "String written in TRIPLE QUOTES\n"
          ]
        }
      ]
    },
    {
      "cell_type": "markdown",
      "source": [
        "## 2. Explanation"
      ],
      "metadata": {
        "id": "vp8qfvHOSWd4"
      }
    },
    {
      "cell_type": "markdown",
      "source": [
        "1. When we use single quotes(' ') in string we can use double quotes(\" \") in it, like :"
      ],
      "metadata": {
        "id": "lsczn7b2Scsv"
      }
    },
    {
      "cell_type": "code",
      "source": [
        "string = '\"It always seems impossible until it is done.\" - Nelson Mandela'\n",
        "print(string)"
      ],
      "metadata": {
        "colab": {
          "base_uri": "https://localhost:8080/"
        },
        "id": "NSCSVGo0TbTT",
        "outputId": "2a9d4ff3-2fa1-4658-b478-b98c634f8702"
      },
      "execution_count": null,
      "outputs": [
        {
          "output_type": "stream",
          "name": "stdout",
          "text": [
            "\"It always seems impossible until it is done.\" - Nelson Mandela\n"
          ]
        }
      ]
    },
    {
      "cell_type": "markdown",
      "source": [
        "2. When we use double quotes(\" \") in string we can use double quotes(' ') in it, like :"
      ],
      "metadata": {
        "id": "UGmfVelHTnJ5"
      }
    },
    {
      "cell_type": "code",
      "source": [
        "string = \"'It always seems impossible until it is done.' - Nelson Mandela\"\n",
        "print(string)"
      ],
      "metadata": {
        "colab": {
          "base_uri": "https://localhost:8080/"
        },
        "id": "KzGKTpVoTlPu",
        "outputId": "61a77a5c-74d3-49af-d94a-3fbcaeab540e"
      },
      "execution_count": null,
      "outputs": [
        {
          "output_type": "stream",
          "name": "stdout",
          "text": [
            "'It always seems impossible until it is done.' - Nelson Mandela\n"
          ]
        }
      ]
    },
    {
      "cell_type": "markdown",
      "source": [
        "3. For Multiline strings we use Triple quotes"
      ],
      "metadata": {
        "id": "bWej-xeJT8pS"
      }
    },
    {
      "cell_type": "code",
      "source": [
        "string = \"\"\" 'It always seems impossible until it is done.'\n",
        "- Nelson Mandela\"\"\"\n",
        "print(string)"
      ],
      "metadata": {
        "colab": {
          "base_uri": "https://localhost:8080/"
        },
        "id": "2ENwrXQMT3M2",
        "outputId": "767bdd36-8ec2-40b3-9ad2-0b30b0303d41"
      },
      "execution_count": null,
      "outputs": [
        {
          "output_type": "stream",
          "name": "stdout",
          "text": [
            " 'It always seems impossible until it is done.'\n",
            "- Nelson Mandela\n"
          ]
        }
      ]
    },
    {
      "cell_type": "markdown",
      "source": [
        "## 3. String that contains both single and double quotes inside it"
      ],
      "metadata": {
        "id": "s8ee6NvWUPPZ"
      }
    },
    {
      "cell_type": "code",
      "source": [
        "string = \"\"\" \"It always seems impossible until it's done.\" - Nelson Mandela\"\"\"\n",
        "print(string)"
      ],
      "metadata": {
        "colab": {
          "base_uri": "https://localhost:8080/"
        },
        "id": "qF-KYP29UIB4",
        "outputId": "1b05a6a7-ee71-422b-ca90-c3e661f92efe"
      },
      "execution_count": null,
      "outputs": [
        {
          "output_type": "stream",
          "name": "stdout",
          "text": [
            " \"It always seems impossible until it's done.\" - Nelson Mandela\n"
          ]
        }
      ]
    },
    {
      "cell_type": "markdown",
      "source": [
        "## 4. Multi-line string using triple quotes that describes favorite hobby"
      ],
      "metadata": {
        "id": "VkcVvZC1U1k3"
      }
    },
    {
      "cell_type": "code",
      "source": [
        "hobbies = \"\"\"1. Coding and building projects\n",
        "2. Reading books\n",
        "3. Learning new programming language\"\"\"\n",
        "print(hobbies)"
      ],
      "metadata": {
        "colab": {
          "base_uri": "https://localhost:8080/"
        },
        "id": "nFEPoJPzUdpY",
        "outputId": "15c5ed8f-f20e-423c-90c3-2db3b3e5f060"
      },
      "execution_count": null,
      "outputs": [
        {
          "output_type": "stream",
          "name": "stdout",
          "text": [
            "1. Coding and building projects\n",
            "2. Reading books\n",
            "3. Learning new programming language\n"
          ]
        }
      ]
    },
    {
      "cell_type": "markdown",
      "source": [
        "## 5. String Methods Practice"
      ],
      "metadata": {
        "id": "gy_TUE5dVinl"
      }
    },
    {
      "cell_type": "code",
      "source": [
        "full_name = \"Shanzay Fatima\"\n",
        "print(full_name.upper()) # name in upper case\n",
        "print(full_name.lower()) # name in lower case"
      ],
      "metadata": {
        "colab": {
          "base_uri": "https://localhost:8080/"
        },
        "id": "TeH9cljgVqUt",
        "outputId": "60482bd6-0761-4b81-ef1f-dcbd3e9d01cd"
      },
      "execution_count": null,
      "outputs": [
        {
          "output_type": "stream",
          "name": "stdout",
          "text": [
            "SHANZAY FATIMA\n",
            "shanzay fatima\n"
          ]
        }
      ]
    },
    {
      "cell_type": "code",
      "source": [
        "full_name = \"shanzay fatima\"\n",
        "print(full_name.title()) # name with first letter of each name capitalized"
      ],
      "metadata": {
        "colab": {
          "base_uri": "https://localhost:8080/"
        },
        "id": "5CwnIAtkWV1g",
        "outputId": "a875f48e-3997-4856-dbac-c014e42a4059"
      },
      "execution_count": null,
      "outputs": [
        {
          "output_type": "stream",
          "name": "stdout",
          "text": [
            "Shanzay Fatima\n"
          ]
        }
      ]
    },
    {
      "cell_type": "code",
      "source": [
        "messy_text = \" Python programming is fun! \"\n",
        "print(messy_text.strip()) # Removing all the extra spaces at the beginning and end"
      ],
      "metadata": {
        "colab": {
          "base_uri": "https://localhost:8080/"
        },
        "id": "wSPt2LK6Wfdk",
        "outputId": "f263590d-868f-459e-e27f-1343269430ef"
      },
      "execution_count": null,
      "outputs": [
        {
          "output_type": "stream",
          "name": "stdout",
          "text": [
            "Python programming is fun!\n",
            "2\n"
          ]
        }
      ]
    },
    {
      "cell_type": "code",
      "source": [
        "print(messy_text.replace(\"fun\", \"amazing\")) # Replaces \"fun\" with \"amazing\""
      ],
      "metadata": {
        "colab": {
          "base_uri": "https://localhost:8080/"
        },
        "id": "xCYMwhrYX09N",
        "outputId": "cf0de9ab-30ca-47c6-ef86-2087f10cc5f4"
      },
      "execution_count": null,
      "outputs": [
        {
          "output_type": "stream",
          "name": "stdout",
          "text": [
            " Python programming is amazing! \n"
          ]
        }
      ]
    },
    {
      "cell_type": "code",
      "source": [
        "print(messy_text.count('i')) # Counting how many times the letter 'i' appears"
      ],
      "metadata": {
        "colab": {
          "base_uri": "https://localhost:8080/"
        },
        "id": "Z8cwqstYX4LA",
        "outputId": "aa7985b3-19f7-4334-99fc-7919eea33d35"
      },
      "execution_count": null,
      "outputs": [
        {
          "output_type": "stream",
          "name": "stdout",
          "text": [
            "2\n"
          ]
        }
      ]
    },
    {
      "cell_type": "code",
      "source": [
        "sentence = \"The quick brown fox jumps over the lazy dog\"\n",
        "list_of_words = sentence.split()  # Splitting this sentence into a list of words\n",
        "print(list_of_words)"
      ],
      "metadata": {
        "colab": {
          "base_uri": "https://localhost:8080/"
        },
        "id": "HIbKSjmVXo6K",
        "outputId": "9043486c-8b93-4147-9559-ad7805686e65"
      },
      "execution_count": null,
      "outputs": [
        {
          "output_type": "stream",
          "name": "stdout",
          "text": [
            "['The', 'quick', 'brown', 'fox', 'jumps', 'over', 'the', 'lazy', 'dog']\n"
          ]
        }
      ]
    },
    {
      "cell_type": "code",
      "source": [
        "print(\"-\".join(list_of_words))  # Joining the words back together with dashes between them"
      ],
      "metadata": {
        "colab": {
          "base_uri": "https://localhost:8080/"
        },
        "id": "_uJMmbiCXvsM",
        "outputId": "6f973c9c-6ad2-4d42-c224-71d142b6b784"
      },
      "execution_count": null,
      "outputs": [
        {
          "output_type": "stream",
          "name": "stdout",
          "text": [
            "The-quick-brown-fox-jumps-over-the-lazy-dog\n"
          ]
        }
      ]
    },
    {
      "cell_type": "code",
      "source": [
        "print(sentence.startswith(\"The\"))  # Checking if the sentence starts with \"The\""
      ],
      "metadata": {
        "colab": {
          "base_uri": "https://localhost:8080/"
        },
        "id": "0WR3o4oGYxnA",
        "outputId": "41633567-2237-4dce-f4b1-c6fc9a145639"
      },
      "execution_count": null,
      "outputs": [
        {
          "output_type": "stream",
          "name": "stdout",
          "text": [
            "True\n"
          ]
        }
      ]
    },
    {
      "cell_type": "code",
      "source": [
        "print(sentence.index(\"fox\")) # Finding the position of the word \"fox\""
      ],
      "metadata": {
        "colab": {
          "base_uri": "https://localhost:8080/"
        },
        "id": "Yian5fkeY0zd",
        "outputId": "a4e40a18-e800-49e6-a2c7-516836fea54d"
      },
      "execution_count": null,
      "outputs": [
        {
          "output_type": "stream",
          "name": "stdout",
          "text": [
            "16\n"
          ]
        }
      ]
    },
    {
      "cell_type": "markdown",
      "source": [
        "## 6. F-Strings"
      ],
      "metadata": {
        "id": "ouhlTzhTZLIn"
      }
    },
    {
      "cell_type": "code",
      "source": [
        "name = \"Shanzay\"\n",
        "age = 17\n",
        "fav_programming_language = \"Python\"\n",
        "\n",
        "sentence = f\"\"\"o My name is {name} and I am {age} years old.\n",
        "o I enjoy programming in {fav_programming_language}, it's my favorite!\n",
        "o In 5 years, I will be {age + 5} years\n",
        "old.\"\"\"\n",
        "\n",
        "print(sentence)"
      ],
      "metadata": {
        "colab": {
          "base_uri": "https://localhost:8080/"
        },
        "id": "MpvyLG2-ZMW4",
        "outputId": "044e4746-ecd2-4ea9-cbf8-e6f17cef36d6"
      },
      "execution_count": null,
      "outputs": [
        {
          "output_type": "stream",
          "name": "stdout",
          "text": [
            "o My name is Shanzay and I am 17 years old.\n",
            "o I enjoy programming in Python, it's my favorite!\n",
            "o In 5 years, I will be 22 years\n",
            "old.\n"
          ]
        }
      ]
    },
    {
      "cell_type": "markdown",
      "source": [
        "## 7. Combining String Methods with F-Strings"
      ],
      "metadata": {
        "id": "yuQiu94IZ6kR"
      }
    },
    {
      "cell_type": "code",
      "source": [
        "import datetime\n",
        "first_name = input(\"Enter your first name \")\n",
        "last_name = input(\"Enter your last name \")\n",
        "birth_year = int(input(\"Enter your birth year \"))\n",
        "\n",
        "current_year = datetime.datetime.now().year\n",
        "calculated_age = current_year - birth_year\n",
        "\n",
        "user_data = f\"\"\"Profile: {first_name.capitalize()} {last_name.capitalize()}\n",
        "Age: {calculated_age}\n",
        "Username: {first_name[:1]}{last_name.lower()}{birth_year}\"\"\"\n",
        "\n",
        "print(user_data)"
      ],
      "metadata": {
        "colab": {
          "base_uri": "https://localhost:8080/"
        },
        "id": "YQa4F_7tZ9_y",
        "outputId": "41bf4b59-729d-4db8-97ac-e98dfe7054ae"
      },
      "execution_count": null,
      "outputs": [
        {
          "output_type": "stream",
          "name": "stdout",
          "text": [
            "Enter your first name sana\n",
            "Enter your last name naz\n",
            "Enter your birth year 2005\n",
            "Profile: Sana Naz\n",
            "Age: 20\n",
            "Username: snaz2005\n"
          ]
        }
      ]
    }
  ]
}