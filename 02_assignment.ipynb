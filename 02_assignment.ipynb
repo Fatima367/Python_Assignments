{
  "nbformat": 4,
  "nbformat_minor": 0,
  "metadata": {
    "colab": {
      "provenance": [],
      "authorship_tag": "ABX9TyPbYG9QKS3+NaxPf6SRfkP2",
      "include_colab_link": true
    },
    "kernelspec": {
      "name": "python3",
      "display_name": "Python 3"
    },
    "language_info": {
      "name": "python"
    }
  },
  "cells": [
    {
      "cell_type": "markdown",
      "metadata": {
        "id": "view-in-github",
        "colab_type": "text"
      },
      "source": [
        "<a href=\"https://colab.research.google.com/github/Fatima367/Python_Assignments/blob/main/02_assignment.ipynb\" target=\"_parent\"><img src=\"https://colab.research.google.com/assets/colab-badge.svg\" alt=\"Open In Colab\"/></a>"
      ]
    },
    {
      "cell_type": "markdown",
      "source": [
        "# Simple Calculator"
      ],
      "metadata": {
        "id": "DCp2GaLdyZWl"
      }
    },
    {
      "cell_type": "code",
      "source": [
        "print(\"Welcome to the calculator, enter numbers and operations to perform calculations\")\n",
        "\n",
        "while True:\n",
        "\n",
        "    operation = input(\"Enter any operation +, -, /, *, or 'q' to exit: \")\n",
        "\n",
        "    if operation.lower() == 'q':\n",
        "        print(\"Exit!\")\n",
        "        break\n",
        "\n",
        "    try:\n",
        "        num1 = float(input(\"Enter first number: \"))\n",
        "        num2 = float(input(\"Enter second number: \"))\n",
        "    except ValueError:\n",
        "        print(\"Please enter a valid number.\")\n",
        "        continue\n",
        "\n",
        "    if operation == '+':\n",
        "        print(f\"{num1} + {num2} = {num1 + num2}\")\n",
        "\n",
        "    elif operation == '-':\n",
        "        print(f\"{num1} - {num2} = {num1 - num2}\")\n",
        "\n",
        "    elif operation == '*':\n",
        "        print(f\"{num1} * {num2} = {num1 * num2}\")\n",
        "\n",
        "    elif operation == '/':\n",
        "        if num2 != 0:\n",
        "            print(f\"{num1} / {num2} = {num1 / num2}\")\n",
        "        else:\n",
        "            print(\"Can't divide by zero.\")\n",
        "            continue\n",
        "    else:\n",
        "        print(\"Invalid operator. Please enter a valid operator (+, -, *, /).\")\n",
        "        continue"
      ],
      "metadata": {
        "id": "SF_2f0wUyj9a"
      },
      "execution_count": null,
      "outputs": []
    },
    {
      "cell_type": "markdown",
      "source": [
        "# Grading System"
      ],
      "metadata": {
        "id": "ujwgfT3Q3s7O"
      }
    },
    {
      "cell_type": "code",
      "source": [
        "print(\"Welcome to Grade Calculator \\nEnter your marks to check your grade.\\n\")\n",
        "\n",
        "def grading(marks):\n",
        "\n",
        "  if marks >= 80:\n",
        "    grade= \"A+\"\n",
        "  elif marks >= 70:\n",
        "    grade= \"A\"\n",
        "  elif marks >= 60:\n",
        "    grade= \"B\"\n",
        "  elif marks >= 50:\n",
        "    grade= \"C\"\n",
        "  elif marks >= 40:\n",
        "    grade= \"D\"\n",
        "  elif marks < 40:\n",
        "    grade= \"F\"\n",
        "\n",
        "  return grade\n",
        "\n",
        "while True:\n",
        "  try:\n",
        "    marks = float(input(\"Enter your obtained marks out of 100: \"))\n",
        "    if 0 <= marks <= 100:\n",
        "      break\n",
        "    else:\n",
        "      print(\"Marks must be between 0-100\")\n",
        "  except ValueError:\n",
        "    print(\"Please enter valid numbers.\")\n",
        "\n",
        "grade = grading(marks)\n",
        "\n",
        "print(f\"\"\"\\nThe grade for {marks} is : \"{grade}\" \"\"\")"
      ],
      "metadata": {
        "id": "yfIuEIew3wYR"
      },
      "execution_count": null,
      "outputs": []
    }
  ]
}