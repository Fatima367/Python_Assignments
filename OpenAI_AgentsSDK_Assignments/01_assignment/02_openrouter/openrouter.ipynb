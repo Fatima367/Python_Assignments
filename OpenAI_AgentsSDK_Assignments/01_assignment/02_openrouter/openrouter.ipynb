{
 "cells": [
  {
   "cell_type": "markdown",
   "id": "c80df067",
   "metadata": {},
   "source": [
    "### OpenRouter With OpenAI Agents SDK"
   ]
  },
  {
   "cell_type": "code",
   "execution_count": 18,
   "id": "762ed6bb",
   "metadata": {},
   "outputs": [
    {
     "name": "stdout",
     "output_type": "stream",
     "text": [
      "Note: you may need to restart the kernel to use updated packages.\n"
     ]
    }
   ],
   "source": [
    "%pip install -Uq openai-agents"
   ]
  },
  {
   "cell_type": "markdown",
   "id": "2e8ef930",
   "metadata": {},
   "source": [
    "#### Makes Jupyter Notebook capable of running asynchronous functions."
   ]
  },
  {
   "cell_type": "code",
   "execution_count": 19,
   "id": "5a32ac49",
   "metadata": {},
   "outputs": [],
   "source": [
    "import nest_asyncio\n",
    "nest_asyncio.apply()"
   ]
  },
  {
   "cell_type": "code",
   "execution_count": 20,
   "id": "2830ca69",
   "metadata": {},
   "outputs": [],
   "source": [
    "from dotenv import load_dotenv\n",
    "import os\n",
    "\n",
    "load_dotenv()\n",
    "\n",
    "OPENROUTER_API_KEY = os.getenv(\"OPENROUTER_API_KEY\")"
   ]
  },
  {
   "cell_type": "code",
   "execution_count": 21,
   "id": "04ef8fbe",
   "metadata": {},
   "outputs": [],
   "source": [
    "# Openrouter base URL\n",
    "BASE_URL= \"https://openrouter.ai/api/v1\"\n",
    "MODEL = \"deepseek/deepseek-chat-v3-0324:free\""
   ]
  },
  {
   "cell_type": "code",
   "execution_count": 24,
   "id": "af79cc21",
   "metadata": {},
   "outputs": [
    {
     "name": "stdout",
     "output_type": "stream",
     "text": [
      "I don't have a name, but you can think of me as your **Python Teaching Assistant**!  \n",
      "\n",
      "If you'd like, you can call me **PTA** (short for Python Teaching Assistant) or suggest a name you prefer. 😊  \n",
      "\n",
      "How can I help you with Python today? 🐍\n"
     ]
    }
   ],
   "source": [
    "import asyncio\n",
    "from openai import AsyncOpenAI      # chat completions\n",
    "from agents import Agent, Runner, OpenAIChatCompletionsModel, set_tracing_disabled\n",
    "\n",
    "\n",
    "set_tracing_disabled(True)\n",
    "\n",
    "openai_client = AsyncOpenAI(\n",
    "    api_key= OPENROUTER_API_KEY,\n",
    "    base_url= BASE_URL\n",
    ")\n",
    "\n",
    "\n",
    "async def main():\n",
    "    \n",
    "    # This agent will use the custom LLM provider\n",
    "    agent = Agent(\n",
    "        name= \"Python Teaching Assistant\",\n",
    "        instructions= \"You are a teaching assistant for Python only.\",\n",
    "        model= OpenAIChatCompletionsModel(model= MODEL, openai_client= openai_client)\n",
    "    )\n",
    "\n",
    "    result = await Runner.run(agent, \"What is your name?\")\n",
    "    print(result.final_output)\n",
    "\n",
    "\n",
    "asyncio.run(main())"
   ]
  }
 ],
 "metadata": {
  "kernelspec": {
   "display_name": "class1",
   "language": "python",
   "name": "python3"
  },
  "language_info": {
   "codemirror_mode": {
    "name": "ipython",
    "version": 3
   },
   "file_extension": ".py",
   "mimetype": "text/x-python",
   "name": "python",
   "nbconvert_exporter": "python",
   "pygments_lexer": "ipython3",
   "version": "3.12.0"
  }
 },
 "nbformat": 4,
 "nbformat_minor": 5
}
