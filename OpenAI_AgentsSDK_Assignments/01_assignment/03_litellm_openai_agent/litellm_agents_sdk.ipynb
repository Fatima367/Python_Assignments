{
 "cells": [
  {
   "cell_type": "code",
   "execution_count": null,
   "id": "84aeb0d7",
   "metadata": {},
   "outputs": [],
   "source": [
    "%pip install -Uq openai-agents[litellm]"
   ]
  },
  {
   "cell_type": "markdown",
   "id": "e81231af",
   "metadata": {},
   "source": [
    "#### Makes Jupyter Notebook capable of running asynchronous functions."
   ]
  },
  {
   "cell_type": "code",
   "execution_count": null,
   "id": "b33e37c4",
   "metadata": {},
   "outputs": [],
   "source": [
    "import nest_asyncio\n",
    "nest_asyncio.apply()"
   ]
  },
  {
   "cell_type": "markdown",
   "id": "7db46feb",
   "metadata": {},
   "source": [
    "##### Sync Function"
   ]
  },
  {
   "cell_type": "code",
   "execution_count": null,
   "id": "2a0b7821",
   "metadata": {},
   "outputs": [],
   "source": [
    "import os\n",
    "from agents import Agent, Runner, set_tracing_disabled, function_tool\n",
    "from agents.extensions.models.litellm_model import LitellmModel\n",
    "from dotenv import load_dotenv\n",
    "import asyncio\n",
    "\n",
    "load_dotenv()\n",
    "\n",
    "set_tracing_disabled(disabled= True)\n",
    "\n",
    "MODEL= \"gemini/gemini-2.0-flash\"\n",
    "GEMINI_API_KEY= os.getenv(\"GEMINI_API_KEY\")\n",
    "\n",
    "\n",
    "@function_tool\n",
    "def get_weather(city: str) -> str:\n",
    "    print(f\"[debug] getting weather for {city}\")\n",
    "    return f\"The weather in {city} is rainy\"\n",
    "\n",
    "\n",
    "def main(model: str, api_key: str):\n",
    "    agent = Agent(\n",
    "        name= \"Assistant\",\n",
    "        model= LitellmModel(model= model, api_key= api_key),\n",
    "        tools=[get_weather]\n",
    "    )\n",
    "\n",
    "    result = Runner.run_sync(agent, \"What is weather in Karachi?\")\n",
    "    print(result.final_output)\n",
    "\n",
    "\n",
    "main(MODEL, GEMINI_API_KEY)"
   ]
  },
  {
   "cell_type": "markdown",
   "id": "5513ab29",
   "metadata": {},
   "source": [
    "##### Async Function"
   ]
  },
  {
   "cell_type": "code",
   "execution_count": null,
   "id": "7f996121",
   "metadata": {},
   "outputs": [],
   "source": [
    "MODEL = \"gemini/gemini-2.0-flash\"\n",
    "GEMINI_API_KEY = os.getenv(\"GEMINI_API_KEY\")\n",
    "\n",
    "@function_tool\n",
    "def get_weather(city: str) -> str:\n",
    "    print(f\"[debug] getting weather for the {city}\")\n",
    "    return f\"The weather in {city} is cloudy\"\n",
    "\n",
    "async def main(model: str, api_key: str):\n",
    "\n",
    "    agent = Agent(\n",
    "        name= \"Assistant\",\n",
    "        model= LitellmModel(model= model, api_key= api_key),\n",
    "        tools=[get_weather]\n",
    "    )\n",
    "\n",
    "    response= await Runner.run(agent, \"What is the weather in Karachi\")\n",
    "    print(response.final_output)\n",
    "\n",
    "\n",
    "asyncio.run(main(api_key= GEMINI_API_KEY, model= MODEL))"
   ]
  }
 ],
 "metadata": {
  "kernelspec": {
   "display_name": "class1",
   "language": "python",
   "name": "python3"
  },
  "language_info": {
   "codemirror_mode": {
    "name": "ipython",
    "version": 3
   },
   "file_extension": ".py",
   "mimetype": "text/x-python",
   "name": "python",
   "nbconvert_exporter": "python",
   "pygments_lexer": "ipython3",
   "version": "3.12.0"
  }
 },
 "nbformat": 4,
 "nbformat_minor": 5
}
