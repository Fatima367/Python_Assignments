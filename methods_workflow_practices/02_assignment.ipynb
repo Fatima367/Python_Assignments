{
  "cells": [
    {
      "cell_type": "markdown",
      "metadata": {
        "colab_type": "text",
        "id": "view-in-github"
      },
      "source": [
        "<a href=\"https://colab.research.google.com/github/Fatima367/Python_Assignments/blob/main/02_assignment.ipynb\" target=\"_parent\"><img src=\"https://colab.research.google.com/assets/colab-badge.svg\" alt=\"Open In Colab\"/></a>"
      ]
    },
    {
      "cell_type": "markdown",
      "metadata": {
        "id": "DCp2GaLdyZWl"
      },
      "source": [
        "# Simple Calculator"
      ]
    },
    {
      "cell_type": "code",
      "execution_count": null,
      "metadata": {
        "id": "SF_2f0wUyj9a"
      },
      "outputs": [],
      "source": [
        "print(\"Welcome to the calculator, enter numbers and operations to perform calculations\")\n",
        "\n",
        "while True:\n",
        "\n",
        "    operation = input(\"Enter any operation +, -, /, *, or 'q' to exit: \")\n",
        "\n",
        "    if operation.lower() == 'q':\n",
        "        print(\"Exit!\")\n",
        "        break\n",
        "\n",
        "    try:\n",
        "        num1 = float(input(\"Enter first number: \"))\n",
        "        num2 = float(input(\"Enter second number: \"))\n",
        "    except ValueError:\n",
        "        print(\"Please enter a valid number.\")\n",
        "        continue\n",
        "\n",
        "    if operation == '+':\n",
        "        print(f\"{num1} + {num2} = {num1 + num2}\")\n",
        "\n",
        "    elif operation == '-':\n",
        "        print(f\"{num1} - {num2} = {num1 - num2}\")\n",
        "\n",
        "    elif operation == '*':\n",
        "        print(f\"{num1} * {num2} = {num1 * num2}\")\n",
        "\n",
        "    elif operation == '/':\n",
        "        if num2 != 0:\n",
        "            print(f\"{num1} / {num2} = {num1 / num2}\")\n",
        "        else:\n",
        "            print(\"Can't divide by zero.\")\n",
        "            \n",
        "    else:\n",
        "        print(\"Invalid operator. Please enter a valid operator (+, -, *, /).\")"
      ]
    },
    {
      "cell_type": "markdown",
      "metadata": {
        "id": "ujwgfT3Q3s7O"
      },
      "source": [
        "# Grading System"
      ]
    },
    {
      "cell_type": "code",
      "execution_count": null,
      "metadata": {
        "id": "yfIuEIew3wYR"
      },
      "outputs": [],
      "source": [
        "print(\"Welcome to Grade Calculator \\nEnter your marks to check your grade.\\n\")\n",
        "\n",
        "def grading(marks):\n",
        "\n",
        "  if marks >= 80:\n",
        "    grade= \"A+\"\n",
        "  elif marks >= 70:\n",
        "    grade= \"A\"\n",
        "  elif marks >= 60:\n",
        "    grade= \"B\"\n",
        "  elif marks >= 50:\n",
        "    grade= \"C\"\n",
        "  elif marks >= 40:\n",
        "    grade= \"D\"\n",
        "  elif marks < 40:\n",
        "    grade= \"F\"\n",
        "\n",
        "  return grade\n",
        "\n",
        "while True:\n",
        "  try:\n",
        "    marks = float(input(\"Enter your obtained marks out of 100: \"))\n",
        "    if 0 <= marks <= 100:\n",
        "      break\n",
        "    else:\n",
        "      print(\"Marks must be between 0-100\")\n",
        "  except ValueError:\n",
        "    print(\"Please enter valid numbers.\")\n",
        "\n",
        "grade = grading(marks)\n",
        "\n",
        "print(f\"\"\"\\nThe grade for {marks} is : \"{grade}\" \"\"\")"
      ]
    }
  ],
  "metadata": {
    "colab": {
      "authorship_tag": "ABX9TyPbYG9QKS3+NaxPf6SRfkP2",
      "include_colab_link": true,
      "provenance": []
    },
    "kernelspec": {
      "display_name": "Python 3",
      "name": "python3"
    },
    "language_info": {
      "name": "python"
    }
  },
  "nbformat": 4,
  "nbformat_minor": 0
}
