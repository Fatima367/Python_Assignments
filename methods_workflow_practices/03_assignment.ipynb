{
  "cells": [
    {
      "cell_type": "markdown",
      "metadata": {
        "colab_type": "text",
        "id": "view-in-github"
      },
      "source": [
        "<a href=\"https://colab.research.google.com/github/Fatima367/Python_Assignments/blob/main/03_assignment.ipynb\" target=\"_parent\"><img src=\"https://colab.research.google.com/assets/colab-badge.svg\" alt=\"Open In Colab\"/></a>"
      ]
    },
    {
      "cell_type": "markdown",
      "metadata": {
        "id": "prIU7AkHzLqB"
      },
      "source": [
        "# Basic List Operations"
      ]
    },
    {
      "cell_type": "code",
      "execution_count": null,
      "metadata": {
        "colab": {
          "base_uri": "https://localhost:8080/"
        },
        "id": "ku5I5c1ozEAq",
        "outputId": "303f64e7-d971-4c63-ad0e-03a95fdf35a5"
      },
      "outputs": [
        {
          "name": "stdout",
          "output_type": "stream",
          "text": [
            "Number List:  [1, 2, 3, 4, 5]\n",
            "Appended new number in the list:  [1, 2, 3, 4, 5, 6]\n"
          ]
        }
      ],
      "source": [
        "number_list: list = [ 1, 2, 3, 4, 5 ]\n",
        "print(\"Number List: \", number_list)\n",
        "\n",
        "number_list.append(6)\n",
        "\n",
        "print(\"Appended new number in the list: \", number_list)"
      ]
    },
    {
      "cell_type": "code",
      "execution_count": null,
      "metadata": {
        "colab": {
          "base_uri": "https://localhost:8080/"
        },
        "id": "l2jNkzXu0I1n",
        "outputId": "cf9e9369-5124-4a2a-e162-b3c27bbc551c"
      },
      "outputs": [
        {
          "name": "stdout",
          "output_type": "stream",
          "text": [
            "Number List:  [1, 2, 3, 4, 5]\n",
            "Extended list:  [1, 2, 3, 4, 5, 6, 7, 8, 9]\n"
          ]
        }
      ],
      "source": [
        "number_list: list = [ 1, 2, 3, 4, 5 ]\n",
        "print(\"Number List: \", number_list)\n",
        "\n",
        "second_list: list = [ 6, 7, 8, 9]\n",
        "\n",
        "number_list.extend(second_list)\n",
        "\n",
        "print(\"Extended list: \", number_list)"
      ]
    },
    {
      "cell_type": "code",
      "execution_count": null,
      "metadata": {
        "colab": {
          "base_uri": "https://localhost:8080/"
        },
        "id": "w4p-FCFH0d1v",
        "outputId": "7b0df354-9beb-4435-bcad-63ef80cc5a53"
      },
      "outputs": [
        {
          "name": "stdout",
          "output_type": "stream",
          "text": [
            "['Java', 'C++', 'JavaScript', 'Ruby']\n",
            "Insereted Python:  ['Java', 'Python', 'C++', 'JavaScript', 'Ruby']\n"
          ]
        }
      ],
      "source": [
        "languages: list = [\"Java\", \"C++\", \"JavaScript\", \"Ruby\"]\n",
        "print(languages)\n",
        "\n",
        "languages.insert(1, \"Python\")\n",
        "print(\"Insereted Python: \", languages)"
      ]
    },
    {
      "cell_type": "code",
      "execution_count": null,
      "metadata": {
        "colab": {
          "base_uri": "https://localhost:8080/"
        },
        "id": "5ohVV3NB1E-s",
        "outputId": "943eba87-6ffb-4253-a2ff-fcd6f331d85d"
      },
      "outputs": [
        {
          "name": "stdout",
          "output_type": "stream",
          "text": [
            "Number list:  [10, 20, 30, 10, 40]\n",
            "Removed 10 from list:  [20, 30, 10, 40]\n"
          ]
        }
      ],
      "source": [
        "number_list: list = [10, 20, 30, 10, 40]\n",
        "print(\"Number list: \", number_list)\n",
        "\n",
        "number_list.remove(10)\n",
        "\n",
        "print(\"Removed 10 from list: \", number_list)"
      ]
    },
    {
      "cell_type": "code",
      "execution_count": null,
      "metadata": {
        "colab": {
          "base_uri": "https://localhost:8080/"
        },
        "id": "_OGdwP8O1dnt",
        "outputId": "f1dff8a8-aadd-40b6-f665-7fe99345005a"
      },
      "outputs": [
        {
          "name": "stdout",
          "output_type": "stream",
          "text": [
            "Numbers:  [100, 200, 300, 400]\n",
            "Updated List:  [100, 200, 300]\n"
          ]
        }
      ],
      "source": [
        "numbers : list =  [100, 200, 300, 400]\n",
        "print(\"Numbers: \", numbers)\n",
        "\n",
        "numbers.pop()\n",
        "print(\"Updated List: \", numbers)"
      ]
    },
    {
      "cell_type": "markdown",
      "metadata": {
        "id": "k8pZ0jfC1vjl"
      },
      "source": [
        "# Intermediate List Operations"
      ]
    },
    {
      "cell_type": "code",
      "execution_count": null,
      "metadata": {
        "colab": {
          "base_uri": "https://localhost:8080/"
        },
        "id": "MfhQpWQB1xVN",
        "outputId": "c3083ca5-1ef1-4656-f372-77606c437029"
      },
      "outputs": [
        {
          "name": "stdout",
          "output_type": "stream",
          "text": [
            "[5, 10, 5, 20, 5, 30]\n",
            "\n",
            "Numbers '5' appears 3 times in the list.\n"
          ]
        }
      ],
      "source": [
        "number_list : list = [5, 10, 5, 20, 5, 30]\n",
        "\n",
        "print(number_list)\n",
        "\n",
        "print(f\"\\nNumbers '5' appears {number_list.count(5)} times in the list.\")"
      ]
    },
    {
      "cell_type": "code",
      "execution_count": null,
      "metadata": {
        "colab": {
          "base_uri": "https://localhost:8080/"
        },
        "id": "HTNIa0HZ2Gvb",
        "outputId": "00d3eee8-c52f-43d7-c271-1dc8175ca8d1"
      },
      "outputs": [
        {
          "name": "stdout",
          "output_type": "stream",
          "text": [
            "[9, 1, 8, 3, 5]\n",
            "Sorted list in ascending order:  [1, 3, 5, 8, 9]\n",
            "Sorted list in descending order:  [9, 8, 5, 3, 1]\n"
          ]
        }
      ],
      "source": [
        "new_list : list =  [9, 1, 8, 3, 5]\n",
        "print(new_list)\n",
        "\n",
        "new_list.sort()\n",
        "print(\"Sorted list in ascending order: \", new_list)\n",
        "\n",
        "new_list.sort(reverse=True)  #   OR   new_list.reverse()    OR    print(new_list[::-1])\n",
        "print(\"Sorted list in descending order: \", new_list)"
      ]
    },
    {
      "cell_type": "code",
      "execution_count": null,
      "metadata": {
        "colab": {
          "base_uri": "https://localhost:8080/"
        },
        "id": "A0ix-Q3k3E7L",
        "outputId": "97700caf-f17d-4a51-c118-34fe029a962f"
      },
      "outputs": [
        {
          "name": "stdout",
          "output_type": "stream",
          "text": [
            "Fruit list:  ['apple', 'banana', 'cherry']\n",
            "Reversed fruit list:  ['cherry', 'banana', 'apple']\n"
          ]
        }
      ],
      "source": [
        "fruit_list: list = [ \"apple\", \"banana\", \"cherry\"]\n",
        "print(\"Fruit list: \", fruit_list)\n",
        "\n",
        "fruit_list.reverse()\n",
        "print(\"Reversed fruit list: \", fruit_list)"
      ]
    },
    {
      "cell_type": "code",
      "execution_count": null,
      "metadata": {
        "colab": {
          "base_uri": "https://localhost:8080/"
        },
        "id": "W4lR8bSi3hPv",
        "outputId": "cfcc5b1e-320c-42c2-b967-21dcda6508a3"
      },
      "outputs": [
        {
          "name": "stdout",
          "output_type": "stream",
          "text": [
            "Original List:  [1, 2, 3, 4, 5]\n",
            "\n",
            "Copied and then updated List:  [1, 2, 3, 4, 5, 6]\n"
          ]
        }
      ],
      "source": [
        "number_list: list = [1, 2, 3, 4, 5]\n",
        "\n",
        "copied_list : list = number_list.copy()\n",
        "\n",
        "copied_list.append(6)\n",
        "\n",
        "print(\"Original List: \", number_list)\n",
        "print()\n",
        "print(\"Copied and then updated List: \", copied_list)"
      ]
    },
    {
      "cell_type": "code",
      "execution_count": null,
      "metadata": {
        "colab": {
          "base_uri": "https://localhost:8080/"
        },
        "id": "ZKtkr0wK4D8p",
        "outputId": "8f33986b-fd2d-444d-be6c-53d6b65e17fa"
      },
      "outputs": [
        {
          "name": "stdout",
          "output_type": "stream",
          "text": [
            "['hello', 'world', 'python']\n",
            "Cleared list:  []\n"
          ]
        }
      ],
      "source": [
        "word_list: list =  [\"hello\", \"world\", \"python\"]\n",
        "print(word_list)\n",
        "\n",
        "word_list.clear()\n",
        "print(\"Cleared list: \" , word_list)"
      ]
    },
    {
      "cell_type": "markdown",
      "metadata": {
        "id": "PeE70kyJ4Y8_"
      },
      "source": [
        "# Tuple-Based Questions"
      ]
    },
    {
      "cell_type": "code",
      "execution_count": null,
      "metadata": {
        "colab": {
          "base_uri": "https://localhost:8080/"
        },
        "id": "68MdfvXV4Z1I",
        "outputId": "5e67436f-d510-4ee5-86c8-0addfdc3bfad"
      },
      "outputs": [
        {
          "name": "stdout",
          "output_type": "stream",
          "text": [
            "Fruits:  ('mango', 'orange', 'kiwi', 'watermelon', 'grapes')\n",
            "\n",
            "Third Fruit:  kiwi\n"
          ]
        }
      ],
      "source": [
        "fruit_tuple: tuple = (\"mango\", \"orange\", \"kiwi\", \"watermelon\", \"grapes\")\n",
        "print(\"Fruits: \", fruit_tuple)\n",
        "print()\n",
        "print(\"Third Fruit: \", fruit_tuple[2])"
      ]
    },
    {
      "cell_type": "code",
      "execution_count": null,
      "metadata": {
        "colab": {
          "base_uri": "https://localhost:8080/"
        },
        "id": "SCHAO6Kz4-I5",
        "outputId": "f71b2109-c4f6-45bd-d4e8-528a3dbb9170"
      },
      "outputs": [
        {
          "name": "stdout",
          "output_type": "stream",
          "text": [
            "Tuple of numbers:  (10, 20, 30, 40, 50)\n",
            "\n",
            "Converted into list:  [10, 20, 30, 40, 50]\n",
            "\n",
            "Removed '30' and again converted back to tuple (10, 20, 40, 50)\n"
          ]
        }
      ],
      "source": [
        "numbers : tuple =  (10, 20, 30, 40, 50)\n",
        "print(\"Tuple of numbers: \", numbers)\n",
        "print()\n",
        "\n",
        "new_list : list = list(numbers)\n",
        "print(\"Converted into list: \", new_list)\n",
        "print()\n",
        "\n",
        "new_list.remove(30)\n",
        "numbers: tuple = tuple(new_list)\n",
        "print(\"Removed '30' and again converted back to tuple\",numbers)"
      ]
    },
    {
      "cell_type": "code",
      "execution_count": null,
      "metadata": {
        "colab": {
          "base_uri": "https://localhost:8080/"
        },
        "id": "ZLQf0TLD5ztH",
        "outputId": "1533db63-965d-43e7-b31b-6e882fa840ef"
      },
      "outputs": [
        {
          "name": "stdout",
          "output_type": "stream",
          "text": [
            "Tuple of alphabets:  ('A', 'B', 'C')\n",
            "\n",
            "Converted into list:  ['A', 'B', 'C']\n",
            "\n",
            "Appended 'D' and again converted back to tuple ('A', 'B', 'C', 'D')\n"
          ]
        }
      ],
      "source": [
        "alphabet: tuple = (\"A\", \"B\", \"C\")\n",
        "\n",
        "# alphabet.append(\"D\")    ERROR\n",
        "\n",
        "# Modifying a tuple indirectly\n",
        "print(\"Tuple of alphabets: \", alphabet)\n",
        "print()\n",
        "\n",
        "new_list : list = list(alphabet)\n",
        "print(\"Converted into list: \", new_list)\n",
        "print()\n",
        "\n",
        "new_list.append(\"D\")\n",
        "alphabet: tuple = tuple(new_list)\n",
        "print(\"Appended 'D' and again converted back to tuple\",alphabet)"
      ]
    },
    {
      "cell_type": "code",
      "execution_count": null,
      "metadata": {
        "colab": {
          "base_uri": "https://localhost:8080/"
        },
        "id": "DJXX5Mxe5-LZ",
        "outputId": "3470fc93-6a17-4e67-9c33-330dd511853c"
      },
      "outputs": [
        {
          "name": "stdout",
          "output_type": "stream",
          "text": [
            "Numbers Tuple:  (100, 200, 300)\n",
            "Unpacked into variables:\n",
            "100\n",
            "200\n",
            "300\n"
          ]
        }
      ],
      "source": [
        "numbers: tuple = (100, 200, 300)\n",
        "print(\"Numbers Tuple: \", numbers)\n",
        "\n",
        "a, b , c = numbers\n",
        "print(\"Unpacked into variables:\")\n",
        "print(a)\n",
        "print(b)\n",
        "print(c)"
      ]
    },
    {
      "cell_type": "code",
      "execution_count": null,
      "metadata": {
        "colab": {
          "base_uri": "https://localhost:8080/"
        },
        "id": "hGVfwJdS6b-e",
        "outputId": "eae43f2e-f637-41d6-bdbb-b459d8b54284"
      },
      "outputs": [
        {
          "name": "stdout",
          "output_type": "stream",
          "text": [
            "(7, 1, 7, 3, 7, 5)\n",
            "\n",
            "Number '7' appears 3 times in the tuple.\n"
          ]
        }
      ],
      "source": [
        "numbers : tuple = (7, 1, 7, 3, 7, 5)\n",
        "\n",
        "print(numbers)\n",
        "\n",
        "print(f\"\\nNumber '7' appears {numbers.count(7)} times in the tuple.\")"
      ]
    },
    {
      "cell_type": "markdown",
      "metadata": {
        "id": "8elulsHJ60vK"
      },
      "source": [
        "# Advanced Problems"
      ]
    },
    {
      "cell_type": "code",
      "execution_count": null,
      "metadata": {
        "colab": {
          "base_uri": "https://localhost:8080/"
        },
        "id": "qUF0U50a61_d",
        "outputId": "f1079cc0-fada-494f-de57-0381f53822fd"
      },
      "outputs": [
        {
          "name": "stdout",
          "output_type": "stream",
          "text": [
            "[2, 6, 7, 8, 3, 40, 435, 40, 53]\n",
            "Even numbers removed:  [7, 3, 435, 53]\n"
          ]
        }
      ],
      "source": [
        "def remove_even_numbers(numbers):\n",
        "  return [x for x in numbers if x % 2 != 0]  # OR return [x for x in [2, 6, 7, 8, 3, 40, 435, 40, 53] if x % 2 != 0]\n",
        "\n",
        "numbers = [2, 6, 7, 8, 3, 40, 435, 40, 53]\n",
        "print(numbers)\n",
        "\n",
        "result = remove_even_numbers(numbers)\n",
        "print(\"Even numbers removed: \", result)"
      ]
    },
    {
      "cell_type": "code",
      "execution_count": null,
      "metadata": {
        "colab": {
          "base_uri": "https://localhost:8080/"
        },
        "id": "7-mnI_Ox_q2s",
        "outputId": "4f27e06a-0cba-47c3-dcd6-24109ee6720e"
      },
      "outputs": [
        {
          "name": "stdout",
          "output_type": "stream",
          "text": [
            "[2, 6, 7, 8, 3, 40, 435, 40, 53]\n",
            "\n",
            "New list with elements sorted in descending order without using the sort() method: \n",
            "[435, 53, 40, 40, 8, 7, 6, 3, 2]\n"
          ]
        }
      ],
      "source": [
        "def reverse_elements(elements):\n",
        "  new_list = elements.copy()\n",
        "  new_list.sort()\n",
        "  new_list.reverse()\n",
        "  return new_list\n",
        "\n",
        "elements : list = [2, 6, 7, 8, 3, 40, 435, 40, 53]\n",
        "print(elements)\n",
        "\n",
        "result = reverse_elements(elements)\n",
        "print(f\"\"\"\\nNew list with elements sorted in descending order without using the sort() method: \\n{result}\"\"\")"
      ]
    },
    {
      "cell_type": "code",
      "execution_count": null,
      "metadata": {
        "colab": {
          "base_uri": "https://localhost:8080/"
        },
        "id": "a6jBn9biA-Nu",
        "outputId": "4bd5161b-5d15-4b5b-e8b6-4394f48f3936"
      },
      "outputs": [
        {
          "name": "stdout",
          "output_type": "stream",
          "text": [
            "[2, 6, 7, 8, 3, 40, 435, 40, 53]\n",
            "\n",
            "New list with elements sorted in descending order without using the sort() method: \n",
            "[435, 53, 40, 40, 8, 7, 6, 3, 2]\n"
          ]
        }
      ],
      "source": [
        "# OR\n",
        "\n",
        "def reverse_elements(elements):\n",
        "  return sorted(elements, reverse=True)\n",
        "\n",
        "elements : list = [2, 6, 7, 8, 3, 40, 435, 40, 53]\n",
        "print(elements)\n",
        "\n",
        "result = reverse_elements(elements)\n",
        "print(f\"\"\"\\nNew list with elements sorted in descending order without using the sort() method: \\n{result}\"\"\")"
      ]
    },
    {
      "cell_type": "code",
      "execution_count": null,
      "metadata": {
        "colab": {
          "base_uri": "https://localhost:8080/"
        },
        "id": "NKxCsKSNBwOg",
        "outputId": "cae33347-c101-48a8-a2f8-1324a406ef08"
      },
      "outputs": [
        {
          "name": "stdout",
          "output_type": "stream",
          "text": [
            "[1, 3, 3, 4, 5, 5, 5, 6, 7, 7, 4, 4, 2, 4, 23, 4, 3, 2]\n",
            "Removed Duplicate Numbers:  [1, 6, 23]\n"
          ]
        }
      ],
      "source": [
        "def remove_duplicates(elements):\n",
        "  return [ x for x in elements if elements.count(x) == 1 ]\n",
        "\n",
        "numbers: list = [1,3,3, 4,5,5,5,6,7,7,4,4,2,4,23,4,3,2]\n",
        "\n",
        "print(numbers)\n",
        "\n",
        "result = remove_duplicates(numbers)\n",
        "\n",
        "print(\"Removed Duplicate Numbers: \", result)"
      ]
    },
    {
      "cell_type": "code",
      "execution_count": null,
      "metadata": {
        "colab": {
          "base_uri": "https://localhost:8080/"
        },
        "id": "v44mZi4xDZfu",
        "outputId": "851c7e57-716f-4d20-ce49-8f48debf4323"
      },
      "outputs": [
        {
          "name": "stdout",
          "output_type": "stream",
          "text": [
            "[1, 3, 3, 4, 5, 5, 5, 6, 7, 7, 4, 4, 2, 4, 23, 4, 3, 2]\n",
            "Removed Duplicates:  [1, 2, 3, 4, 5, 6, 7, 23]\n"
          ]
        }
      ],
      "source": [
        "# OR\n",
        "\n",
        "numbers: list = [1,3,3, 4,5,5,5,6,7,7,4,4,2,4,23,4,3,2]\n",
        "\n",
        "print(numbers)\n",
        "\n",
        "unique_elements = set(numbers)\n",
        "\n",
        "result = list(unique_elements)\n",
        "\n",
        "print(\"Removed Duplicates: \", result)"
      ]
    },
    {
      "cell_type": "code",
      "execution_count": null,
      "metadata": {
        "colab": {
          "base_uri": "https://localhost:8080/"
        },
        "id": "hKoqAcSJD_zQ",
        "outputId": "87f63e4d-ff74-4193-f7be-4a44ac834df9"
      },
      "outputs": [
        {
          "name": "stdout",
          "output_type": "stream",
          "text": [
            "Tuple of names:  ('Alice', 'Bob', 'Charlie', 'Alice', 'David')\n",
            "\n",
            "Removed duplicate names:  ('Alice', 'David', 'Charlie', 'Bob')\n"
          ]
        }
      ],
      "source": [
        "names = (\"Alice\", \"Bob\", \"Charlie\", \"Alice\", \"David\")\n",
        "print(\"Tuple of names: \", names)\n",
        "print()\n",
        "\n",
        "list_of_names = list(names)\n",
        "\n",
        "unique_names = set(list_of_names)\n",
        "\n",
        "names = tuple(unique_names)\n",
        "print(\"Removed duplicate names: \", names)"
      ]
    },
    {
      "cell_type": "markdown",
      "metadata": {},
      "source": [
        "```python\n",
        "mixed_list = [1, \"hello\", 3.14, 2, \"world\", 5.67]\n",
        "print(\"Mixed List:\", mixed_list)\n",
        "print()\n",
        "\n",
        "def separator(lst):\n",
        "\n",
        "  integer_list = [x for x in lst if type(x) == int]\n",
        "\n",
        "  print(\"Separated Integers: \", integer_list)\n",
        "\n",
        "  string_list = [x for x in lst if type(x) == str]\n",
        "\n",
        "  print(\"Separated Strings: \", string_list)\n",
        "\n",
        "  float_list = [x for x in lst if type(x) == float]\n",
        "\n",
        "  print(\"Separated Floats: \", float_list)\n",
        "\n",
        "  return \"\"\n",
        "\n",
        "print(separator(mixed_list))\n",
        "```\n",
        "\n",
        "***Result:***\n",
        "\n",
        "Mixed List: [1, 'hello', 3.14, 2, 'world', 5.67]\n",
        "\n",
        "Separated Integers:  [1, 2]   \n",
        "Separated Strings:  ['hello', 'world']  \n",
        "Separated Floats:  [3.14, 5.67]   "
      ]
    },
    {
      "cell_type": "code",
      "execution_count": 2,
      "metadata": {
        "colab": {
          "base_uri": "https://localhost:8080/"
        },
        "id": "vBBLSkyLG2gp",
        "outputId": "04d0e76a-ae51-4f09-8dec-0d0dffced622"
      },
      "outputs": [
        {
          "name": "stdout",
          "output_type": "stream",
          "text": [
            "Mixed List: [1, 'hello', 3.14, 2, 'world', 5.67]\n",
            "\n",
            "Separated Integers:  [1, 2]\n",
            "Separated Strings:  ['hello', 'world']\n",
            "Separated Floats:  [3.14, 5.67]\n",
            "\n"
          ]
        }
      ],
      "source": [
        "#   OR\n",
        "mixed_list = [1, \"hello\", 3.14, 2, \"world\", 5.67]\n",
        "print(\"Mixed List:\", mixed_list)\n",
        "print()\n",
        "\n",
        "def separator(lst):\n",
        "\n",
        "  integer_list = [x for x in lst if isinstance(x, int)]\n",
        "\n",
        "  print(\"Separated Integers: \", integer_list)\n",
        "\n",
        "  string_list = [x for x in lst if isinstance(x, str)]\n",
        "\n",
        "  print(\"Separated Strings: \", string_list)\n",
        "\n",
        "  float_list = [x for x in lst if isinstance(x, float)]\n",
        "\n",
        "  print(\"Separated Floats: \", float_list)\n",
        "\n",
        "  return \"\"\n",
        "\n",
        "print(separator(mixed_list))"
      ]
    }
  ],
  "metadata": {
    "colab": {
      "authorship_tag": "ABX9TyOoiJUw14ZhuxVg0WkQSt8D",
      "include_colab_link": true,
      "provenance": []
    },
    "kernelspec": {
      "display_name": "Python 3",
      "name": "python3"
    },
    "language_info": {
      "name": "python"
    }
  },
  "nbformat": 4,
  "nbformat_minor": 0
}
