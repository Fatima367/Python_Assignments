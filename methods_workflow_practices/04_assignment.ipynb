{
  "nbformat": 4,
  "nbformat_minor": 0,
  "metadata": {
    "colab": {
      "provenance": [],
      "authorship_tag": "ABX9TyMLu4sk5lj9daSCzzxt3si2",
      "include_colab_link": true
    },
    "kernelspec": {
      "name": "python3",
      "display_name": "Python 3"
    },
    "language_info": {
      "name": "python"
    }
  },
  "cells": [
    {
      "cell_type": "markdown",
      "metadata": {
        "id": "view-in-github",
        "colab_type": "text"
      },
      "source": [
        "<a href=\"https://colab.research.google.com/github/Fatima367/Python_Assignments/blob/main/04_assignment.ipynb\" target=\"_parent\"><img src=\"https://colab.research.google.com/assets/colab-badge.svg\" alt=\"Open In Colab\"/></a>"
      ]
    },
    {
      "cell_type": "markdown",
      "source": [
        "# **List Methods Practice**"
      ],
      "metadata": {
        "id": "Vz4JDAK5SDmE"
      }
    },
    {
      "cell_type": "markdown",
      "source": [
        "# 1. Create and Modify Lists"
      ],
      "metadata": {
        "id": "o5iUmFhSivDo"
      }
    },
    {
      "cell_type": "code",
      "source": [
        "fruits: list[str] = [ \"apple\", \"banana\", \"orange\"]\n",
        "\n",
        "fruits.append(\"grapes\")\n",
        "\n",
        "fruits.insert(2, \"mango\")\n",
        "\n",
        "fruits.remove(\"banana\")\n",
        "\n",
        "print(fruits)"
      ],
      "metadata": {
        "colab": {
          "base_uri": "https://localhost:8080/"
        },
        "id": "oZRGC3YWi6IE",
        "outputId": "beb598da-0b2d-499b-f8e9-1700e12fdb8e"
      },
      "execution_count": 3,
      "outputs": [
        {
          "output_type": "stream",
          "name": "stdout",
          "text": [
            "['apple', 'banana', 'mango', 'orange', 'grapes']\n",
            "['apple', 'mango', 'orange', 'grapes']\n"
          ]
        }
      ]
    },
    {
      "cell_type": "markdown",
      "source": [
        "# 2. List Operations"
      ],
      "metadata": {
        "id": "X0jqAiFKjyG7"
      }
    },
    {
      "cell_type": "code",
      "source": [
        "numbers : list[int] = [10, 20, 30, 40, 50]\n",
        "more_numbers : list[int] = [60, 70, 80]\n",
        "\n",
        "all_numbers: list[int] = numbers + more_numbers\n",
        "\n",
        "numbers_copy = all_numbers.copy()\n",
        "\n",
        "numbers_copy.sort(reverse=True)\n",
        "\n",
        "print(all_numbers)\n",
        "print(numbers_copy)"
      ],
      "metadata": {
        "colab": {
          "base_uri": "https://localhost:8080/"
        },
        "id": "fJtRDBdsjzIc",
        "outputId": "ab331c31-3335-46a1-87cf-498a625bedb6"
      },
      "execution_count": 9,
      "outputs": [
        {
          "output_type": "stream",
          "name": "stdout",
          "text": [
            "[10, 20, 30, 40, 50, 60, 70, 80]\n",
            "[80, 70, 60, 50, 40, 30, 20, 10]\n"
          ]
        }
      ]
    },
    {
      "cell_type": "code",
      "source": [
        "# OR\n",
        "\n",
        "numbers : list[int] = [10, 20, 30, 40, 50]\n",
        "more_numbers : list[int] = [60, 70, 80]\n",
        "\n",
        "all_numbers: list[int] = [*numbers ,*more_numbers]\n",
        "\n",
        "print(all_numbers)"
      ],
      "metadata": {
        "colab": {
          "base_uri": "https://localhost:8080/"
        },
        "id": "27ndE9CDttGm",
        "outputId": "1e4fde89-761d-49cd-da39-4cae9e2fc85f"
      },
      "execution_count": 34,
      "outputs": [
        {
          "output_type": "stream",
          "name": "stdout",
          "text": [
            "[10, 20, 30, 40, 50, 60, 70, 80]\n"
          ]
        }
      ]
    },
    {
      "cell_type": "markdown",
      "source": [
        "# 3. Sorting and Counting"
      ],
      "metadata": {
        "id": "ElGEIkhOk7Yr"
      }
    },
    {
      "cell_type": "code",
      "source": [
        "scores: list[int] = [85, 92, 78, 65, 92, 85, 74]\n",
        "scores.sort()\n",
        "\n",
        "print(\"Sorted : \", scores)\n",
        "print(f\"Lowest Score: {scores[0]}\")\n",
        "\n",
        "scores.sort(reverse=True)\n",
        "print(f\"Highest Score: {scores[0]}\")\n",
        "\n",
        "print(\"Reversed: \" ,scores)\n",
        "print(f\"92 appeared '{scores.count(92)}' times.\")\n",
        "\n",
        "#OR\n",
        "max_score = max(scores)\n",
        "min_score = min(scores)\n",
        "\n",
        "print(\"Highest: \", max_score)\n",
        "print(\"Lowest: \", min_score)"
      ],
      "metadata": {
        "colab": {
          "base_uri": "https://localhost:8080/"
        },
        "id": "mBhmA9Gfk8SD",
        "outputId": "97fac0a1-0738-4b71-d794-591c50a4bd78"
      },
      "execution_count": 15,
      "outputs": [
        {
          "output_type": "stream",
          "name": "stdout",
          "text": [
            "Sorted :  [65, 74, 78, 85, 85, 92, 92]\n",
            "Lowest Score: 65\n",
            "Highest Score: 92\n",
            "Reversed:  [92, 92, 85, 85, 78, 74, 65]\n",
            "92 appeared '2' times.\n",
            "Highest:  92\n",
            "Lowest:  65\n"
          ]
        }
      ]
    },
    {
      "cell_type": "markdown",
      "source": [
        "# 4. List Manipulation"
      ],
      "metadata": {
        "id": "SMJH_twCm8vD"
      }
    },
    {
      "cell_type": "code",
      "source": [
        "letters : list[str] = [\"a\", \"b\", \"c\", \"d\", \"e\"]\n",
        "\n",
        "new_list = letters[:3]\n",
        "\n",
        "another_list = letters[-2:]\n",
        "\n",
        "print(\"Originial list: \",letters)\n",
        "print(\"First three: \",new_list)\n",
        "print(\"Last two: \",another_list)\n",
        "\n",
        "letters[3] = \"z\"\n",
        "\n",
        "print(\"Index of c: \", letters.index(\"c\"))\n",
        "print(\"Modified list: \", letters)\n"
      ],
      "metadata": {
        "colab": {
          "base_uri": "https://localhost:8080/"
        },
        "id": "4r-S4e4Km9u4",
        "outputId": "d36472e5-7d97-4b00-d04c-966a130368e4"
      },
      "execution_count": 18,
      "outputs": [
        {
          "output_type": "stream",
          "name": "stdout",
          "text": [
            "Originial list:  ['a', 'b', 'c', 'd', 'e']\n",
            "First three:  ['a', 'b', 'c']\n",
            "Last two:  ['d', 'e']\n",
            "Index of c:  2\n",
            "Modified list:  ['a', 'b', 'c', 'z', 'e']\n"
          ]
        }
      ]
    },
    {
      "cell_type": "markdown",
      "source": [
        "# **Dictionary Methods Practice**"
      ],
      "metadata": {
        "id": "a1avjUhKo7XB"
      }
    },
    {
      "cell_type": "markdown",
      "source": [
        "## 1. Create and Access Dictionaries\n"
      ],
      "metadata": {
        "id": "ww9gXkFspBj0"
      }
    },
    {
      "cell_type": "code",
      "source": [
        "student = {\n",
        "   \"name\": \"John\",\n",
        "   \"age\": 20,\n",
        "   \"grade\": \"A\",\n",
        "   \"courses\": [\"Math\", \"Science\", \"History\"]\n",
        "}\n",
        "\n",
        "print(\"Name: \",student[\"name\"])\n",
        "print(\"Courses: \", student[\"courses\"])\n",
        "\n",
        "student[\"email\"] = \"john@example.com\"\n",
        "\n",
        "print(f\"Data:\\n{student}\")"
      ],
      "metadata": {
        "colab": {
          "base_uri": "https://localhost:8080/"
        },
        "id": "PwrfrvJmpDbH",
        "outputId": "e27e250a-5d6c-4a01-b09d-a729800870f0"
      },
      "execution_count": 23,
      "outputs": [
        {
          "output_type": "stream",
          "name": "stdout",
          "text": [
            "Name:  John\n",
            "Courses:  ['Math', 'Science', 'History']\n",
            "Data:\n",
            "{'name': 'John', 'age': 20, 'grade': 'A', 'courses': ['Math', 'Science', 'History'], 'email': 'john@example.com'}\n"
          ]
        }
      ]
    },
    {
      "cell_type": "markdown",
      "source": [
        "# 2. Modify Dictionary Values"
      ],
      "metadata": {
        "id": "jtcvWyIhp9x0"
      }
    },
    {
      "cell_type": "code",
      "source": [
        "student[\"age\"] = 21\n",
        "\n",
        "student[\"courses\"].append('Computer Science')\n",
        "\n",
        "student['grade'] = \"A+\"\n",
        "\n",
        "print(f\"Updated Data:\\n{student}\")"
      ],
      "metadata": {
        "colab": {
          "base_uri": "https://localhost:8080/"
        },
        "id": "oOldzmMdp-s0",
        "outputId": "52a4229f-64fa-44ba-d254-3fb508badd8d"
      },
      "execution_count": 24,
      "outputs": [
        {
          "output_type": "stream",
          "name": "stdout",
          "text": [
            "Updated Data:\n",
            "{'name': 'John', 'age': 21, 'grade': 'A+', 'courses': ['Math', 'Science', 'History', 'Computer Science'], 'email': 'john@example.com'}\n"
          ]
        }
      ]
    },
    {
      "cell_type": "markdown",
      "source": [
        "# 3. Dictionary Operations"
      ],
      "metadata": {
        "id": "kJ5CdEdXqxLo"
      }
    },
    {
      "cell_type": "code",
      "source": [
        "student_address = {\n",
        "    \"street\": \"123 College Ave\",\n",
        "    \"city\": \"New York\",\n",
        "    \"zip\": \"10001\"\n",
        "    }\n",
        "\n",
        "student_info = {**student, **student_address}\n",
        "\n",
        "student_info.pop(\"zip\", \"Not Found.\")\n",
        "\n",
        "student_info.get(\"phone\", \"Phone not found\")\n",
        "\n",
        "print(f\"Final Data:\\n{student_info}\")"
      ],
      "metadata": {
        "colab": {
          "base_uri": "https://localhost:8080/"
        },
        "id": "Mb9fWoSmqyDG",
        "outputId": "bfaa8da3-e249-4a57-edf9-b322407581df"
      },
      "execution_count": 30,
      "outputs": [
        {
          "output_type": "stream",
          "name": "stdout",
          "text": [
            "Final Data:\n",
            "{'name': 'John', 'age': 21, 'grade': 'A+', 'courses': ['Math', 'Science', 'History', 'Computer Science'], 'email': 'john@example.com', 'street': '123 College Ave', 'city': 'New York'}\n"
          ]
        }
      ]
    },
    {
      "cell_type": "markdown",
      "source": [
        "# 4. Dictionary Methods"
      ],
      "metadata": {
        "id": "DVDXO_Q3tO94"
      }
    },
    {
      "cell_type": "code",
      "source": [
        "word_count = {\n",
        "    \"hello\": 5,\n",
        "    \"world\": 10,\n",
        "    \"python\": 15\n",
        "}\n",
        "\n",
        "print(\"All keys: \",list(word_count.keys()))\n",
        "print(\"All values: \", list(word_count.values()))\n",
        "print(\"All key-value pairs: \",word_count.items())\n",
        "\n",
        "copied_dictionary = word_count.copy()\n",
        "\n",
        "word_count.clear()\n",
        "\n",
        "print(\"Emptied: \",word_count)\n",
        "print(\"Copied: \",copied_dictionary)"
      ],
      "metadata": {
        "colab": {
          "base_uri": "https://localhost:8080/"
        },
        "id": "-Gn1Ei73tPxS",
        "outputId": "27e18b4d-20fc-4df6-9ad2-ccf8538e1e6a"
      },
      "execution_count": 38,
      "outputs": [
        {
          "output_type": "stream",
          "name": "stdout",
          "text": [
            "All keys:  ['hello', 'world', 'python']\n",
            "All values:  [5, 10, 15]\n",
            "All key-value pairs:  dict_items([('hello', 5), ('world', 10), ('python', 15)])\n",
            "Emptied:  {}\n",
            "Copied:  {'hello': 5, 'world': 10, 'python': 15}\n"
          ]
        }
      ]
    },
    {
      "cell_type": "markdown",
      "source": [
        "# **Shopping Discount Calculator**"
      ],
      "metadata": {
        "id": "E3Sm8XMyu0Rv"
      }
    },
    {
      "cell_type": "code",
      "source": [
        "purchase_amount = 2000\n",
        "is_loyalty_member = True\n",
        "day_of_week = \"Wednesday\"\n",
        "is_holiday_season = False\n",
        "\n",
        "final_amount = 0"
      ],
      "metadata": {
        "id": "CM5z8MKwu0_i"
      },
      "execution_count": 10,
      "outputs": []
    },
    {
      "cell_type": "markdown",
      "source": [
        "## 2. Apply discount rules using if statements:"
      ],
      "metadata": {
        "id": "3frstv5tJCeD"
      }
    },
    {
      "cell_type": "code",
      "source": [
        "purchase_amount = 2000\n",
        "is_loyalty_member = True\n",
        "day_of_week = \"Wednesday\"\n",
        "is_holiday_season = False\n",
        "\n",
        "discount_amount = 0\n",
        "\n",
        "print(f\"\\nOriginal purchase amount: ${purchase_amount}\\n\")\n",
        "\n",
        "if purchase_amount > 100:\n",
        "  discount = purchase_amount * 10/100\n",
        "  discount_amount += discount\n",
        "  print(f\"${discount} discount- '10%' discount on purchases over $100\")\n",
        "elif 50 < purchase_amount <= 100:\n",
        "  discount = purchase_amount * 5/100\n",
        "  discount_amount += discount\n",
        "  print(f\"${discount} discount- '5%' discount on purchases over $50\")\n",
        "\n",
        "if is_loyalty_member:\n",
        "  loyalty_discount = purchase_amount * 5/100\n",
        "  discount_amount += loyalty_discount\n",
        "  print(f\"${loyalty_discount} discount- 5% discount for loyalty members\")\n",
        "\n",
        "if day_of_week.lower() == \"saturday\" or day_of_week.lower() == \"sunday\":\n",
        "  weekend_discount = purchase_amount * 2/100\n",
        "  discount_amount += weekend_discount\n",
        "  print(f\"${weekend_discount} discount- 2% discount on weekends\")\n",
        "\n",
        "if is_holiday_season:\n",
        "  holiday_discount = purchase_amount * 8/100\n",
        "  discount_amount += holiday_discount\n",
        "  print(f\"${holiday_discount} discount- 8% discount on holiday\")\n",
        "\n",
        "\n",
        "final_amount = purchase_amount - discount_amount\n",
        "print(f\"Total discounts: ${discount}\")\n",
        "\n",
        "print(f\"\\nThe final price after discount: ${total}\")"
      ],
      "metadata": {
        "colab": {
          "base_uri": "https://localhost:8080/"
        },
        "id": "cMUWQI-dJB06",
        "outputId": "be675130-76bd-4e2c-8f55-cabe14154e1f"
      },
      "execution_count": 13,
      "outputs": [
        {
          "output_type": "stream",
          "name": "stdout",
          "text": [
            "\n",
            "Original purchase amount: $2000\n",
            "\n",
            "$200.0 discount- '10%' discount on purchases over $100\n",
            "$100.0 discount- 5% discount for loyalty members\n",
            "Total discounts: $200.0\n",
            "\n",
            "The final price after discount: $1700.0\n"
          ]
        }
      ]
    },
    {
      "cell_type": "markdown",
      "source": [
        "# **For Loop Assignment** - Number Patterns"
      ],
      "metadata": {
        "id": "Sbdrsg8mRocx"
      }
    },
    {
      "cell_type": "markdown",
      "source": [
        "# 1. Pattern 1: Counting Numbers"
      ],
      "metadata": {
        "id": "J2aUnyizQv14"
      }
    },
    {
      "cell_type": "code",
      "source": [
        "for num in range(1,11):\n",
        "  print(num)"
      ],
      "metadata": {
        "colab": {
          "base_uri": "https://localhost:8080/"
        },
        "id": "KCsAteCKQww3",
        "outputId": "1ea12485-e839-4369-8ba0-016cb475f55f"
      },
      "execution_count": 15,
      "outputs": [
        {
          "output_type": "stream",
          "name": "stdout",
          "text": [
            "1\n",
            "2\n",
            "3\n",
            "4\n",
            "5\n",
            "6\n",
            "7\n",
            "8\n",
            "9\n",
            "10\n"
          ]
        }
      ]
    },
    {
      "cell_type": "markdown",
      "source": [
        "# Pattern 2: Multiplication Table"
      ],
      "metadata": {
        "id": "2_gaOFQlQ9u3"
      }
    },
    {
      "cell_type": "code",
      "source": [
        "for i in range(1,11):\n",
        "  print(f\"5 x {i} = {i * 5}\")"
      ],
      "metadata": {
        "colab": {
          "base_uri": "https://localhost:8080/"
        },
        "id": "5ZvDpHlIQ-cE",
        "outputId": "be01339a-09a8-4957-ad9e-9e05b22a51de"
      },
      "execution_count": 16,
      "outputs": [
        {
          "output_type": "stream",
          "name": "stdout",
          "text": [
            "5 x 1 = 5\n",
            "5 x 2 = 10\n",
            "5 x 3 = 15\n",
            "5 x 4 = 20\n",
            "5 x 5 = 25\n",
            "5 x 6 = 30\n",
            "5 x 7 = 35\n",
            "5 x 8 = 40\n",
            "5 x 9 = 45\n",
            "5 x 10 = 50\n"
          ]
        }
      ]
    },
    {
      "cell_type": "markdown",
      "source": [
        "# **While Loop Assignment** - Interactive Game"
      ],
      "metadata": {
        "id": "P7GUDOP_RdpJ"
      }
    },
    {
      "cell_type": "code",
      "source": [
        "import random\n",
        "\n",
        "print(\"Number Guessing Game\")\n",
        "\n",
        "guess_count = 0\n",
        "secret_number = random.randint(1,50)\n",
        "guess = 0\n",
        "print(\"I've selected a number between 1-50\")\n",
        "\n",
        "while guess != secret_number:\n",
        "  guess = int(input(\"Guess what is that number: \"))\n",
        "  guess_count += 1\n",
        "\n",
        "  if guess > secret_number:\n",
        "    print(\"Your guess is too high.\")\n",
        "  elif guess < secret_number:\n",
        "    print(\"Your guess is too low.\")\n",
        "\n",
        "print(f\"\\nYour guess is correct! The number was {secret_number}\")\n",
        "print(f\"Total guess attempts: {guess_count}\")"
      ],
      "metadata": {
        "colab": {
          "base_uri": "https://localhost:8080/"
        },
        "id": "0uY7PdltRj45",
        "outputId": "c35ca4ae-156f-4a5a-f955-8a627bea22df"
      },
      "execution_count": 21,
      "outputs": [
        {
          "output_type": "stream",
          "name": "stdout",
          "text": [
            "Number Guessing Game\n",
            "I've selected a number between 1-50\n",
            "Guess what is that number: 40\n",
            "Your guess is too high.\n",
            "Guess what is that number: 20\n",
            "Your guess is too high.\n",
            "Guess what is that number: 10\n",
            "Your guess is too high.\n",
            "Guess what is that number: 5\n",
            "Your guess is too low.\n",
            "Guess what is that number: 8\n",
            "Your guess is too low.\n",
            "Guess what is that number: 9\n",
            "\n",
            "Your guess is correct! The number was 9\n",
            "Total guess attempts: 6\n"
          ]
        }
      ]
    },
    {
      "cell_type": "markdown",
      "source": [
        "# **Student Grade Management System**"
      ],
      "metadata": {
        "id": "P9fbNL9CU6Mx"
      }
    },
    {
      "cell_type": "code",
      "source": [
        "students = [{\"name\": \"Aiden\", \"id\": 734, \"grades\": {\"Maths\": 78, \"Computer\": 87, \"History\": 79}},\n",
        "            {\"name\": \"Thomson\", \"id\": 894, \"grades\": {\"Maths\": 89, \"Computer\": 58, \"History\": 59}},\n",
        "            {\"name\": \"Maya\", \"id\": 302, \"grades\": {\"Maths\": 89, \"Computer\": 80, \"History\": 76}}]\n",
        "\n",
        "highest_average_grade = 0\n",
        "above_grade_80_students = []\n",
        "highest_grade_student = \"\"\n",
        "\n",
        "for student in students:\n",
        "  print(f\"\\nName: {student['name']}\")\n",
        "  sum_of_grades = 0\n",
        "  total_grades = 0\n",
        "\n",
        "  print(\"Grades:\")\n",
        "  for course, grade in student['grades'].items():\n",
        "    print(f\"\\t{course}: {grade}\")\n",
        "    sum_of_grades += grade\n",
        "    total_grades += 1\n",
        "\n",
        "\n",
        "  average_grade = sum_of_grades / total_grades\n",
        "  print(f\"Average Grade: {round(average_grade, 2)}\")\n",
        "\n",
        "  if average_grade > highest_average_grade:\n",
        "    highest_average_grade = average_grade\n",
        "    highest_grade_student = student\n",
        "\n",
        "  if average_grade > 80:\n",
        "    above_grade_80_students.append(student)\n",
        "\n",
        "\n",
        "print(f\"\\nHighest Grade Student: {highest_grade_student}\")\n",
        "\n",
        "print(\"\\nAll students with average grade above 80: \")\n",
        "for student in above_grade_80_students:\n",
        "  print(student)"
      ],
      "metadata": {
        "colab": {
          "base_uri": "https://localhost:8080/"
        },
        "id": "NnLPFS8pU7vq",
        "outputId": "fc032b55-dd7f-489f-84a7-40aba46913a0"
      },
      "execution_count": 36,
      "outputs": [
        {
          "output_type": "stream",
          "name": "stdout",
          "text": [
            "\n",
            "Name: Aiden\n",
            "Grades:\n",
            "\tMaths: 78\n",
            "\tComputer: 87\n",
            "\tHistory: 79\n",
            "Average Grade: 81.33\n",
            "\n",
            "Name: Thomson\n",
            "Grades:\n",
            "\tMaths: 89\n",
            "\tComputer: 58\n",
            "\tHistory: 59\n",
            "Average Grade: 68.67\n",
            "\n",
            "Name: Maya\n",
            "Grades:\n",
            "\tMaths: 89\n",
            "\tComputer: 80\n",
            "\tHistory: 76\n",
            "Average Grade: 81.67\n",
            "\n",
            "Highest Grade Student: {'name': 'Maya', 'id': 302, 'grades': {'Maths': 89, 'Computer': 80, 'History': 76}}\n",
            "\n",
            "All students with average grade above 80: \n",
            "{'name': 'Aiden', 'id': 734, 'grades': {'Maths': 78, 'Computer': 87, 'History': 79}}\n",
            "{'name': 'Maya', 'id': 302, 'grades': {'Maths': 89, 'Computer': 80, 'History': 76}}\n"
          ]
        }
      ]
    },
    {
      "cell_type": "code",
      "source": [
        "students = [{\"name\": \"Aiden\", \"id\": 734, \"grades\": {\"Maths\": 78, \"Computer\": 87, \"History\": 79}},\n",
        "            {\"name\": \"Thomson\", \"id\": 894, \"grades\": {\"Maths\": 89, \"Computer\": 58, \"History\": 59}},\n",
        "            {\"name\": \"Maya\", \"id\": 302, \"grades\": {\"Maths\": 89, \"Computer\": 80, \"History\": 76}}]\n",
        "\n",
        "course_name = input(\"Enter course name for average grade of that course: \").title()\n",
        "sum_of_grades = 0\n",
        "total_grades = 0\n",
        "\n",
        "for student in students:\n",
        "  if course_name in student['grades']:\n",
        "    sum_of_grades += student['grades'][course_name]\n",
        "    total_grades += 1\n",
        "\n",
        "  else:\n",
        "    print(\"Course not found.\")\n",
        "\n",
        "  average_course_grade = sum_of_grades / total_grades\n",
        "\n",
        "print(f\"Average grade for {course_name} course: {round(average_course_grade, 2)}\")"
      ],
      "metadata": {
        "colab": {
          "base_uri": "https://localhost:8080/"
        },
        "id": "I3jXF6gbgFPW",
        "outputId": "8ef54187-4860-409d-d6aa-dc73c02bb995"
      },
      "execution_count": 38,
      "outputs": [
        {
          "output_type": "stream",
          "name": "stdout",
          "text": [
            "Enter course name for average grade of that course: computer\n",
            "Average grade for Computer course: 75.0\n"
          ]
        }
      ]
    },
    {
      "cell_type": "code",
      "source": [
        "students = [{\"name\": \"Aiden\", \"id\": 734, \"grades\": {\"Maths\": 78, \"Computer\": 87, \"History\": 79}},\n",
        "            {\"name\": \"Thomson\", \"id\": 894, \"grades\": {\"Maths\": 89, \"Computer\": 58, \"History\": 59}},\n",
        "            {\"name\": \"Maya\", \"id\": 302, \"grades\": {\"Maths\": 89, \"Computer\": 80, \"History\": 76}}]\n",
        "\n",
        "\n",
        "name = input(\"Enter student name: \").title()\n",
        "student_id = int(input(\"Enter student 3-digit id: \"))\n",
        "new_grades = {}\n",
        "\n",
        "for course in ['Math', 'Computer', 'History']:\n",
        "  grade = int(input(f\"Enter grade for {course}: \"))\n",
        "  new_grades[course] = grade\n",
        "\n",
        "new_student = {\"name\": name, \"id\": student_id, \"grades\": new_grades}\n",
        "\n",
        "students.append(new_student)\n",
        "\n",
        "print(f\"\\nNew student added to students: {new_student}\")\n",
        "print(f\"\\n{students}\")"
      ],
      "metadata": {
        "colab": {
          "base_uri": "https://localhost:8080/"
        },
        "id": "Q9f_1hakhuam",
        "outputId": "a386cfbe-7d4e-436d-9673-57955ac757fe"
      },
      "execution_count": 40,
      "outputs": [
        {
          "output_type": "stream",
          "name": "stdout",
          "text": [
            "Enter student name: Henry\n",
            "Enter student 3-digit id: 744\n",
            "Enter grade for Math: 70\n",
            "Enter grade for Computer: 79\n",
            "Enter grade for History: 91\n",
            "\n",
            "New student added to students: {'name': 'Henry', 'id': 744, 'grades': {'Math': 70, 'Computer': 79, 'History': 91}}\n",
            "\n",
            "[{'name': 'Aiden', 'id': 734, 'grades': {'Maths': 78, 'Computer': 87, 'History': 79}}, {'name': 'Thomson', 'id': 894, 'grades': {'Maths': 89, 'Computer': 58, 'History': 59}}, {'name': 'Maya', 'id': 302, 'grades': {'Maths': 89, 'Computer': 80, 'History': 76}}, {'name': 'Henry', 'id': 744, 'grades': {'Math': 70, 'Computer': 79, 'History': 91}}]\n"
          ]
        }
      ]
    }
  ]
}